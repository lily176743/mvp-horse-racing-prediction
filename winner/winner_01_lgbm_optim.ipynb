{
 "cells": [
  {
   "cell_type": "markdown",
   "id": "82d49895",
   "metadata": {},
   "source": [
    "# This notebook will allow us to fine tune ur parameters for our lgbm models."
   ]
  },
  {
   "cell_type": "markdown",
   "id": "cfb3f66e",
   "metadata": {},
   "source": [
    "## Import libraries"
   ]
  },
  {
   "cell_type": "code",
   "execution_count": 1,
   "id": "16ca009c",
   "metadata": {},
   "outputs": [
    {
     "name": "stderr",
     "output_type": "stream",
     "text": [
      "Using TensorFlow backend.\n"
     ]
    }
   ],
   "source": [
    "import pandas as pd\n",
    "import numpy as np\n",
    "import keras\n",
    "import tensorflow as tf\n",
    "import sklearn.preprocessing as preprocessing\n",
    "import sklearn.model_selection as model_selection\n",
    "import matplotlib.pyplot as plt\n",
    "from matplotlib import pyplot\n",
    "from winner_functions import *\n",
    "from IPython.core.interactiveshell import InteractiveShell\n",
    "InteractiveShell.ast_node_interactivity = \"all\"\n",
    "\n",
    "from lightgbm import plot_importance\n",
    "from lightgbm import LGBMClassifier\n",
    "\n",
    "import joblib\n",
    "import time"
   ]
  },
  {
   "cell_type": "markdown",
   "id": "45c7c4a8",
   "metadata": {},
   "source": [
    "## From all months available, we decide to fine tune this parameters only with the first set that means with the trainnning set before 2005 and the eval set in january 2005."
   ]
  },
  {
   "cell_type": "code",
   "execution_count": 2,
   "id": "1ff6bf80",
   "metadata": {},
   "outputs": [
    {
     "name": "stdout",
     "output_type": "stream",
     "text": [
      "The month is 01\n",
      "shape of the x_train:  (5878, 1618)\n",
      "shape of the y_train:  (5878, 14)\n",
      "shape of the x_train:  (83, 1618)\n",
      "shape of the y_train:  (83, 14)\n"
     ]
    }
   ],
   "source": [
    "all_month = ['01', '02','03','05', '06','07', '08']\n",
    "\n",
    "#We use the january month for the validation set\n",
    "month = all_month[0]\n",
    "\n",
    "print(f'The month is {month}')\n",
    "X_train, y_train, X_test, y_test, y_train_value, y_test_value, X_test_init = prepare_and_split_data(pd.read_hdf(f'../data/{month}_train_runners.h5','features'),\n",
    "                                                                                                    pd.read_hdf(f'../data/{month}_test_runners.h5','features'))"
   ]
  },
  {
   "cell_type": "code",
   "execution_count": 4,
   "id": "efbc42c1",
   "metadata": {},
   "outputs": [],
   "source": [
    "X_TEST = create_X_TEST(X_test_init)"
   ]
  },
  {
   "cell_type": "markdown",
   "id": "dca0c410",
   "metadata": {},
   "source": [
    "# Hyper optimisation"
   ]
  },
  {
   "cell_type": "markdown",
   "id": "d9cb4de5",
   "metadata": {},
   "source": [
    "## We will use hyper optimisation"
   ]
  },
  {
   "cell_type": "code",
   "execution_count": 5,
   "id": "1ad5f0dc",
   "metadata": {},
   "outputs": [
    {
     "name": "stdout",
     "output_type": "stream",
     "text": [
      "Collecting hyperopt\n",
      "  Downloading hyperopt-0.2.5-py2.py3-none-any.whl (965 kB)\n",
      "\u001b[K     |████████████████████████████████| 965 kB 13.0 MB/s eta 0:00:01\n",
      "\u001b[?25hRequirement already satisfied: networkx>=2.2 in /opt/conda/lib/python3.7/site-packages (from hyperopt) (2.5)\n",
      "Requirement already satisfied: cloudpickle in /opt/conda/lib/python3.7/site-packages (from hyperopt) (1.6.0)\n",
      "Requirement already satisfied: six in /opt/conda/lib/python3.7/site-packages (from hyperopt) (1.15.0)\n",
      "Requirement already satisfied: numpy in /opt/conda/lib/python3.7/site-packages (from hyperopt) (1.19.5)\n",
      "Requirement already satisfied: scipy in /opt/conda/lib/python3.7/site-packages (from hyperopt) (1.6.2)\n",
      "Requirement already satisfied: tqdm in /opt/conda/lib/python3.7/site-packages (from hyperopt) (4.60.0)\n",
      "Requirement already satisfied: future in /opt/conda/lib/python3.7/site-packages (from hyperopt) (0.18.2)\n",
      "Requirement already satisfied: decorator>=4.3.0 in /opt/conda/lib/python3.7/site-packages (from networkx>=2.2->hyperopt) (5.0.6)\n",
      "Installing collected packages: hyperopt\n",
      "Successfully installed hyperopt-0.2.5\n"
     ]
    }
   ],
   "source": [
    "!pip install hyperopt"
   ]
  },
  {
   "cell_type": "code",
   "execution_count": 11,
   "id": "6ec4353e",
   "metadata": {},
   "outputs": [],
   "source": [
    "# This hyperopt algo come from this link by Idrissa\n",
    "# from https://github.com/IdrissaN/competitive-machine-learning/blob/main/hyperopt.py\n",
    "\n",
    "import gc \n",
    "import time\n",
    "import numpy as np\n",
    "import pandas as pd\n",
    "from sklearn.model_selection import train_test_split, GroupKFold, KFold, TimeSeriesSplit\n",
    "from sklearn.metrics import f1_score, accuracy_score, roc_auc_score, recall_score, precision_score, confusion_matrix\n",
    "import lightgbm as lgb\n",
    "import warnings\n",
    "warnings.filterwarnings(\"ignore\")\n",
    "\n",
    "from hyperopt import fmin, hp, tpe, Trials, space_eval, STATUS_OK, STATUS_RUNNING, partial"
   ]
  },
  {
   "cell_type": "code",
   "execution_count": 12,
   "id": "fc7bb6b8",
   "metadata": {},
   "outputs": [],
   "source": []
  },
  {
   "cell_type": "code",
   "execution_count": 13,
   "id": "cdc1f3f1",
   "metadata": {},
   "outputs": [],
   "source": [
    "## We do this step to avoid multi indexes pandas dataframe\n",
    "\n",
    "X_train  =  multi_indexes_to_single(X_train)\n",
    "X_test  =  multi_indexes_to_single(X_test)\n",
    "y_train  =  multi_indexes_to_single(y_train)\n",
    "y_test  =  multi_indexes_to_single(y_test)"
   ]
  },
  {
   "cell_type": "code",
   "execution_count": 14,
   "id": "7fd44cf8",
   "metadata": {},
   "outputs": [],
   "source": [
    "# We define our searched space\n",
    "hyper_space = {'metric':'multi_error','boosting':'gbdt','min_data_in_leaf': 99,'n_estimators':300,\n",
    "               'objective': 'multiclass', \n",
    "               'num_class': 14,\n",
    "               'seed' : 80,\n",
    "               'learning_rate': 0.03, #hp.choice('learning_rate', [0.05, .1, .3]),\n",
    "               'max_depth': hp.choice('max_depth',np.arange(6, 25, dtype=int)),\n",
    "               'num_leaves': hp.choice('num_leaves', np.arange(20, 100, 10, dtype=int)),\n",
    "               'subsample': hp.uniform('subsample', 0.5, 1),\n",
    "               'feature_fraction': hp.uniform('feature_fraction', 0.5, 1), # colsample_bytree\n",
    "               'reg_alpha': hp.uniform('reg_alpha', 0, 1),\n",
    "               'reg_lambda':  hp.uniform('reg_lambda', 0, 1),               \n",
    "               'min_child_samples': hp.choice('min_child_samples',np.arange(10, 100, 10, dtype=int)),\n",
    "                'verbose' : -1}\n"
   ]
  },
  {
   "cell_type": "code",
   "execution_count": 16,
   "id": "b1d3f0f6",
   "metadata": {},
   "outputs": [],
   "source": [
    "# do it the first time\n",
    "#results_hyperopt = pd.DataFrame(columns = [\"Score\",\"Parameters\"])\n",
    "\n",
    "#Then do this instead to avoid losing previous otpimisation results\n",
    "results_hyperopt = pd.read_csv('results_hyperopt.csv',header = 0, names=[\"Score\",\"Parameters\"])"
   ]
  },
  {
   "cell_type": "code",
   "execution_count": 61,
   "id": "6e5c1f95",
   "metadata": {},
   "outputs": [],
   "source": [
    "results_hyperopt.to_csv('results_hyperopt.csv', header=False)"
   ]
  },
  {
   "cell_type": "code",
   "execution_count": 62,
   "id": "5b3becf3",
   "metadata": {
    "collapsed": true,
    "jupyter": {
     "outputs_hidden": true
    }
   },
   "outputs": [
    {
     "name": "stdout",
     "output_type": "stream",
     "text": [
      "{'boosting': 'gbdt', 'feature_fraction': 0.8642315416321155, 'learning_rate': 0.03, 'max_depth': 21, 'metric': 'multi_error', 'min_child_samples': 30, 'min_data_in_leaf': 99, 'n_estimators': 300, 'num_class': 14, 'num_leaves': 30, 'objective': 'multiclass', 'reg_alpha': 0.21852804095306982, 'reg_lambda': 0.9505826623770318, 'seed': 80, 'subsample': 0.9798372246708638, 'verbose': -1}\n",
      "[LightGBM] [Warning] min_data_in_leaf is set=99, min_child_samples=30 will be ignored. Current value: min_data_in_leaf=99\n",
      "Training until validation scores don't improve for 20 rounds\n",
      "Early stopping, best iteration is:                    \n",
      "[9]\ttraining's multi_error: 0.544913\tvalid_1's multi_error: 0.73494\n",
      "-1.3999999999999915                                   \n",
      "{'boosting': 'gbdt', 'feature_fraction': 0.8907967173028202, 'learning_rate': 0.03, 'max_depth': 21, 'metric': 'multi_error', 'min_child_samples': 30, 'min_data_in_leaf': 99, 'n_estimators': 300, 'num_class': 14, 'num_leaves': 30, 'objective': 'multiclass', 'reg_alpha': 0.1278663325812121, 'reg_lambda': 0.9137376080165492, 'seed': 80, 'subsample': 0.9740018210660842, 'verbose': -1}\n",
      "[LightGBM] [Warning] min_data_in_leaf is set=99, min_child_samples=30 will be ignored. Current value: min_data_in_leaf=99\n",
      "Training until validation scores don't improve for 20 rounds                     \n",
      "Early stopping, best iteration is:                                               \n",
      "[40]\ttraining's multi_error: 0.281728\tvalid_1's multi_error: 0.759036\n",
      "13.199999999999989                                                               \n",
      "{'boosting': 'gbdt', 'feature_fraction': 0.5450675696463017, 'learning_rate': 0.03, 'max_depth': 8, 'metric': 'multi_error', 'min_child_samples': 20, 'min_data_in_leaf': 99, 'n_estimators': 300, 'num_class': 14, 'num_leaves': 50, 'objective': 'multiclass', 'reg_alpha': 0.9380776751679614, 'reg_lambda': 0.9941458914939111, 'seed': 80, 'subsample': 0.9890146204231456, 'verbose': -1}\n",
      "[LightGBM] [Warning] min_data_in_leaf is set=99, min_child_samples=30 will be ignored. Current value: min_data_in_leaf=99\n",
      "Training until validation scores don't improve for 20 rounds                     \n",
      "Early stopping, best iteration is:                                               \n",
      "[7]\ttraining's multi_error: 0.583872\tvalid_1's multi_error: 0.771084\n",
      "13.59999999999998                                                                \n",
      "{'boosting': 'gbdt', 'feature_fraction': 0.9919320050180891, 'learning_rate': 0.03, 'max_depth': 19, 'metric': 'multi_error', 'min_child_samples': 40, 'min_data_in_leaf': 99, 'n_estimators': 300, 'num_class': 14, 'num_leaves': 30, 'objective': 'multiclass', 'reg_alpha': 0.049555365643890154, 'reg_lambda': 0.21036179111170938, 'seed': 80, 'subsample': 0.5344778877267348, 'verbose': -1}\n",
      "[LightGBM] [Warning] min_data_in_leaf is set=99, min_child_samples=30 will be ignored. Current value: min_data_in_leaf=99\n",
      "Training until validation scores don't improve for 20 rounds                     \n",
      "Early stopping, best iteration is:                                               \n",
      "[11]\ttraining's multi_error: 0.515652\tvalid_1's multi_error: 0.746988\n",
      "2.4000000000000057                                                               \n",
      "{'boosting': 'gbdt', 'feature_fraction': 0.6571660805644992, 'learning_rate': 0.03, 'max_depth': 21, 'metric': 'multi_error', 'min_child_samples': 50, 'min_data_in_leaf': 99, 'n_estimators': 300, 'num_class': 14, 'num_leaves': 20, 'objective': 'multiclass', 'reg_alpha': 0.5839322303617612, 'reg_lambda': 0.5942670082222248, 'seed': 80, 'subsample': 0.7631566532363863, 'verbose': -1}\n",
      "[LightGBM] [Warning] min_data_in_leaf is set=99, min_child_samples=30 will be ignored. Current value: min_data_in_leaf=99\n",
      "Training until validation scores don't improve for 20 rounds                     \n",
      "Early stopping, best iteration is:                                               \n",
      "[8]\ttraining's multi_error: 0.58115\tvalid_1's multi_error: 0.746988\n",
      "-13.400000000000006                                                              \n",
      "{'boosting': 'gbdt', 'feature_fraction': 0.5567234954795133, 'learning_rate': 0.03, 'max_depth': 16, 'metric': 'multi_error', 'min_child_samples': 50, 'min_data_in_leaf': 99, 'n_estimators': 300, 'num_class': 14, 'num_leaves': 20, 'objective': 'multiclass', 'reg_alpha': 0.7656179572128408, 'reg_lambda': 0.5266598133550147, 'seed': 80, 'subsample': 0.6944199609457937, 'verbose': -1}\n",
      "[LightGBM] [Warning] min_data_in_leaf is set=99, min_child_samples=30 will be ignored. Current value: min_data_in_leaf=99\n",
      "Training until validation scores don't improve for 20 rounds                     \n",
      "Early stopping, best iteration is:                                               \n",
      "[16]\ttraining's multi_error: 0.489963\tvalid_1's multi_error: 0.746988\n",
      "13.999999999999986                                                               \n",
      "{'boosting': 'gbdt', 'feature_fraction': 0.6992398185835734, 'learning_rate': 0.03, 'max_depth': 10, 'metric': 'multi_error', 'min_child_samples': 70, 'min_data_in_leaf': 99, 'n_estimators': 300, 'num_class': 14, 'num_leaves': 70, 'objective': 'multiclass', 'reg_alpha': 0.5661904093568351, 'reg_lambda': 0.5580296626337324, 'seed': 80, 'subsample': 0.791149216633519, 'verbose': -1}\n",
      "[LightGBM] [Warning] min_data_in_leaf is set=99, min_child_samples=30 will be ignored. Current value: min_data_in_leaf=99\n",
      "Training until validation scores don't improve for 20 rounds                     \n",
      "Early stopping, best iteration is:                                               \n",
      "[7]\ttraining's multi_error: 0.577577\tvalid_1's multi_error: 0.746988\n",
      "-11.199999999999989                                                              \n",
      "{'boosting': 'gbdt', 'feature_fraction': 0.6844686836539596, 'learning_rate': 0.03, 'max_depth': 23, 'metric': 'multi_error', 'min_child_samples': 10, 'min_data_in_leaf': 99, 'n_estimators': 300, 'num_class': 14, 'num_leaves': 40, 'objective': 'multiclass', 'reg_alpha': 0.40827485917824846, 'reg_lambda': 0.009948024269939404, 'seed': 80, 'subsample': 0.7857456579543832, 'verbose': -1}\n",
      "[LightGBM] [Warning] min_data_in_leaf is set=99, min_child_samples=30 will be ignored. Current value: min_data_in_leaf=99\n",
      "Training until validation scores don't improve for 20 rounds                     \n",
      "Early stopping, best iteration is:                                               \n",
      "[27]\ttraining's multi_error: 0.362368\tvalid_1's multi_error: 0.759036\n",
      "15.899999999999991                                                               \n",
      "{'boosting': 'gbdt', 'feature_fraction': 0.8150308531305664, 'learning_rate': 0.03, 'max_depth': 24, 'metric': 'multi_error', 'min_child_samples': 90, 'min_data_in_leaf': 99, 'n_estimators': 300, 'num_class': 14, 'num_leaves': 20, 'objective': 'multiclass', 'reg_alpha': 0.9913639943821826, 'reg_lambda': 0.7354609059895876, 'seed': 80, 'subsample': 0.5376413368059931, 'verbose': -1}\n",
      "[LightGBM] [Warning] min_data_in_leaf is set=99, min_child_samples=30 will be ignored. Current value: min_data_in_leaf=99\n",
      "Training until validation scores don't improve for 20 rounds                     \n",
      "Early stopping, best iteration is:                                               \n",
      "[7]\ttraining's multi_error: 0.585914\tvalid_1's multi_error: 0.759036\n",
      "5.3999999999999915                                                               \n",
      "{'boosting': 'gbdt', 'feature_fraction': 0.6223523407071234, 'learning_rate': 0.03, 'max_depth': 13, 'metric': 'multi_error', 'min_child_samples': 80, 'min_data_in_leaf': 99, 'n_estimators': 300, 'num_class': 14, 'num_leaves': 60, 'objective': 'multiclass', 'reg_alpha': 0.6549201770259181, 'reg_lambda': 0.25115901294981513, 'seed': 80, 'subsample': 0.6596204222114039, 'verbose': -1}\n",
      "[LightGBM] [Warning] min_data_in_leaf is set=99, min_child_samples=30 will be ignored. Current value: min_data_in_leaf=99\n",
      "Training until validation scores don't improve for 20 rounds                     \n",
      "Early stopping, best iteration is:                                               \n",
      "[9]\ttraining's multi_error: 0.548486\tvalid_1's multi_error: 0.746988\n",
      "7.999999999999986                                                                \n",
      "{'boosting': 'gbdt', 'feature_fraction': 0.995585455560128, 'learning_rate': 0.03, 'max_depth': 6, 'metric': 'multi_error', 'min_child_samples': 60, 'min_data_in_leaf': 99, 'n_estimators': 300, 'num_class': 14, 'num_leaves': 90, 'objective': 'multiclass', 'reg_alpha': 0.31391938445632606, 'reg_lambda': 0.30353838115715387, 'seed': 80, 'subsample': 0.8648557252063105, 'verbose': -1}\n",
      "[LightGBM] [Warning] min_data_in_leaf is set=99, min_child_samples=30 will be ignored. Current value: min_data_in_leaf=99\n",
      "Training until validation scores don't improve for 20 rounds                      \n",
      "Early stopping, best iteration is:                                                \n",
      "[34]\ttraining's multi_error: 0.420891\tvalid_1's multi_error: 0.73494\n",
      "7.400000000000006                                                                 \n",
      "{'boosting': 'gbdt', 'feature_fraction': 0.7892729787367505, 'learning_rate': 0.03, 'max_depth': 18, 'metric': 'multi_error', 'min_child_samples': 50, 'min_data_in_leaf': 99, 'n_estimators': 300, 'num_class': 14, 'num_leaves': 80, 'objective': 'multiclass', 'reg_alpha': 0.8109496644959999, 'reg_lambda': 0.7552011257156728, 'seed': 80, 'subsample': 0.6224223451389893, 'verbose': -1}\n",
      "[LightGBM] [Warning] min_data_in_leaf is set=99, min_child_samples=30 will be ignored. Current value: min_data_in_leaf=99\n",
      "Training until validation scores don't improve for 20 rounds                      \n",
      "Early stopping, best iteration is:                                                \n",
      "[7]\ttraining's multi_error: 0.574855\tvalid_1's multi_error: 0.759036\n",
      "4.599999999999994                                                                 \n",
      "{'boosting': 'gbdt', 'feature_fraction': 0.5118831456210009, 'learning_rate': 0.03, 'max_depth': 12, 'metric': 'multi_error', 'min_child_samples': 50, 'min_data_in_leaf': 99, 'n_estimators': 300, 'num_class': 14, 'num_leaves': 20, 'objective': 'multiclass', 'reg_alpha': 0.45575342513031025, 'reg_lambda': 0.06344724724198758, 'seed': 80, 'subsample': 0.8881139401804208, 'verbose': -1}\n",
      "[LightGBM] [Warning] min_data_in_leaf is set=99, min_child_samples=30 will be ignored. Current value: min_data_in_leaf=99\n",
      "Training until validation scores don't improve for 20 rounds                      \n",
      "Early stopping, best iteration is:                                                \n",
      "[19]\ttraining's multi_error: 0.454236\tvalid_1's multi_error: 0.73494\n",
      "7.699999999999989                                                                 \n",
      "{'boosting': 'gbdt', 'feature_fraction': 0.6314467872467636, 'learning_rate': 0.03, 'max_depth': 11, 'metric': 'multi_error', 'min_child_samples': 20, 'min_data_in_leaf': 99, 'n_estimators': 300, 'num_class': 14, 'num_leaves': 20, 'objective': 'multiclass', 'reg_alpha': 0.6645132051861178, 'reg_lambda': 0.7054843642482597, 'seed': 80, 'subsample': 0.8876874057946146, 'verbose': -1}\n",
      "[LightGBM] [Warning] min_data_in_leaf is set=99, min_child_samples=30 will be ignored. Current value: min_data_in_leaf=99\n",
      "Training until validation scores don't improve for 20 rounds                      \n",
      "Early stopping, best iteration is:                                                \n",
      "[7]\ttraining's multi_error: 0.597312\tvalid_1's multi_error: 0.746988\n",
      "-13.400000000000006                                                               \n",
      "{'boosting': 'gbdt', 'feature_fraction': 0.9262326643474768, 'learning_rate': 0.03, 'max_depth': 17, 'metric': 'multi_error', 'min_child_samples': 10, 'min_data_in_leaf': 99, 'n_estimators': 300, 'num_class': 14, 'num_leaves': 90, 'objective': 'multiclass', 'reg_alpha': 0.8656849333818912, 'reg_lambda': 0.4213107822053801, 'seed': 80, 'subsample': 0.5812461649785678, 'verbose': -1}\n",
      "[LightGBM] [Warning] min_data_in_leaf is set=99, min_child_samples=30 will be ignored. Current value: min_data_in_leaf=99\n",
      "Training until validation scores don't improve for 20 rounds                      \n",
      "Early stopping, best iteration is:                                                \n",
      "[27]\ttraining's multi_error: 0.386696\tvalid_1's multi_error: 0.73494\n",
      "5.200000000000003                                                                 \n",
      "{'boosting': 'gbdt', 'feature_fraction': 0.7116462477992538, 'learning_rate': 0.03, 'max_depth': 7, 'metric': 'multi_error', 'min_child_samples': 50, 'min_data_in_leaf': 99, 'n_estimators': 300, 'num_class': 14, 'num_leaves': 60, 'objective': 'multiclass', 'reg_alpha': 0.015395144479331324, 'reg_lambda': 0.8376009758508918, 'seed': 80, 'subsample': 0.7235247874100974, 'verbose': -1}\n",
      "[LightGBM] [Warning] min_data_in_leaf is set=99, min_child_samples=30 will be ignored. Current value: min_data_in_leaf=99\n",
      "Training until validation scores don't improve for 20 rounds                      \n",
      "Early stopping, best iteration is:                                                \n",
      "[8]\ttraining's multi_error: 0.566859\tvalid_1's multi_error: 0.73494\n",
      "-1.4999999999999858                                                               \n",
      "{'boosting': 'gbdt', 'feature_fraction': 0.596646451354579, 'learning_rate': 0.03, 'max_depth': 9, 'metric': 'multi_error', 'min_child_samples': 90, 'min_data_in_leaf': 99, 'n_estimators': 300, 'num_class': 14, 'num_leaves': 50, 'objective': 'multiclass', 'reg_alpha': 0.3172117727182599, 'reg_lambda': 0.6143151418519011, 'seed': 80, 'subsample': 0.8255821260190304, 'verbose': -1}\n",
      "[LightGBM] [Warning] min_data_in_leaf is set=99, min_child_samples=30 will be ignored. Current value: min_data_in_leaf=99\n",
      "Training until validation scores don't improve for 20 rounds                      \n",
      "Early stopping, best iteration is:                                                \n",
      "[6]\ttraining's multi_error: 0.595441\tvalid_1's multi_error: 0.746988\n",
      "-15.099999999999994                                                               \n",
      "{'boosting': 'gbdt', 'feature_fraction': 0.6042026192575536, 'learning_rate': 0.03, 'max_depth': 9, 'metric': 'multi_error', 'min_child_samples': 90, 'min_data_in_leaf': 99, 'n_estimators': 300, 'num_class': 14, 'num_leaves': 50, 'objective': 'multiclass', 'reg_alpha': 0.31186552003189416, 'reg_lambda': 0.6761943121545444, 'seed': 80, 'subsample': 0.8770233558607736, 'verbose': -1}\n",
      "[LightGBM] [Warning] min_data_in_leaf is set=99, min_child_samples=30 will be ignored. Current value: min_data_in_leaf=99\n",
      "Training until validation scores don't improve for 20 rounds                      \n",
      "Early stopping, best iteration is:                                                \n",
      "[7]\ttraining's multi_error: 0.576216\tvalid_1's multi_error: 0.722892\n",
      "-27.399999999999977                                                               \n",
      "{'boosting': 'gbdt', 'feature_fraction': 0.5903884539108728, 'learning_rate': 0.03, 'max_depth': 9, 'metric': 'multi_error', 'min_child_samples': 90, 'min_data_in_leaf': 99, 'n_estimators': 300, 'num_class': 14, 'num_leaves': 50, 'objective': 'multiclass', 'reg_alpha': 0.32331519416680615, 'reg_lambda': 0.3998447459282791, 'seed': 80, 'subsample': 0.8391275225843989, 'verbose': -1}\n",
      "[LightGBM] [Warning] min_data_in_leaf is set=99, min_child_samples=30 will be ignored. Current value: min_data_in_leaf=99\n",
      "Training until validation scores don't improve for 20 rounds                      \n",
      "Early stopping, best iteration is:                                                \n",
      "[7]\ttraining's multi_error: 0.570772\tvalid_1's multi_error: 0.73494\n",
      "-1.59999999999998                                                                 \n",
      "{'boosting': 'gbdt', 'feature_fraction': 0.5025806425094883, 'learning_rate': 0.03, 'max_depth': 9, 'metric': 'multi_error', 'min_child_samples': 90, 'min_data_in_leaf': 99, 'n_estimators': 300, 'num_class': 14, 'num_leaves': 50, 'objective': 'multiclass', 'reg_alpha': 0.2240210430713782, 'reg_lambda': 0.6858554768064737, 'seed': 80, 'subsample': 0.9193842967620518, 'verbose': -1}\n",
      "[LightGBM] [Warning] min_data_in_leaf is set=99, min_child_samples=30 will be ignored. Current value: min_data_in_leaf=99\n",
      "Training until validation scores don't improve for 20 rounds                      \n",
      "Early stopping, best iteration is:                                                \n",
      "[18]\ttraining's multi_error: 0.434842\tvalid_1's multi_error: 0.73494\n",
      "9.799999999999997                                                                 \n",
      "{'boosting': 'gbdt', 'feature_fraction': 0.7346821111038513, 'learning_rate': 0.03, 'max_depth': 22, 'metric': 'multi_error', 'min_child_samples': 90, 'min_data_in_leaf': 99, 'n_estimators': 300, 'num_class': 14, 'num_leaves': 50, 'objective': 'multiclass', 'reg_alpha': 0.348651832649507, 'reg_lambda': 0.6417971681842811, 'seed': 80, 'subsample': 0.8276999330049234, 'verbose': -1}\n",
      "[LightGBM] [Warning] min_data_in_leaf is set=99, min_child_samples=30 will be ignored. Current value: min_data_in_leaf=99\n",
      "Training until validation scores don't improve for 20 rounds                      \n",
      "Early stopping, best iteration is:                                                \n",
      "[7]\ttraining's multi_error: 0.56771\tvalid_1's multi_error: 0.746988\n",
      "-12.799999999999997                                                               \n",
      "{'boosting': 'gbdt', 'feature_fraction': 0.600250679077505, 'learning_rate': 0.03, 'max_depth': 15, 'metric': 'multi_error', 'min_child_samples': 90, 'min_data_in_leaf': 99, 'n_estimators': 300, 'num_class': 14, 'num_leaves': 50, 'objective': 'multiclass', 'reg_alpha': 0.17506303456182215, 'reg_lambda': 0.8293407568270474, 'seed': 80, 'subsample': 0.9321204619220919, 'verbose': -1}\n",
      "[LightGBM] [Warning] min_data_in_leaf is set=99, min_child_samples=30 will be ignored. Current value: min_data_in_leaf=99\n",
      "Training until validation scores don't improve for 20 rounds                      \n",
      "Early stopping, best iteration is:                                                \n",
      "[7]\ttraining's multi_error: 0.575536\tvalid_1's multi_error: 0.73494\n",
      "-20.69999999999999                                                                \n",
      "{'boosting': 'gbdt', 'feature_fraction': 0.5524094263794551, 'learning_rate': 0.03, 'max_depth': 15, 'metric': 'multi_error', 'min_child_samples': 90, 'min_data_in_leaf': 99, 'n_estimators': 300, 'num_class': 14, 'num_leaves': 80, 'objective': 'multiclass', 'reg_alpha': 0.12341888204741075, 'reg_lambda': 0.8438017184683582, 'seed': 80, 'subsample': 0.9374714554762527, 'verbose': -1}\n",
      "[LightGBM] [Warning] min_data_in_leaf is set=99, min_child_samples=30 will be ignored. Current value: min_data_in_leaf=99\n",
      "Training until validation scores don't improve for 20 rounds                      \n",
      "Early stopping, best iteration is:                                                \n",
      "[14]\ttraining's multi_error: 0.471079\tvalid_1's multi_error: 0.73494\n",
      "4.400000000000006                                                                 \n",
      "{'boosting': 'gbdt', 'feature_fraction': 0.7711275903797956, 'learning_rate': 0.03, 'max_depth': 20, 'metric': 'multi_error', 'min_child_samples': 70, 'min_data_in_leaf': 99, 'n_estimators': 300, 'num_class': 14, 'num_leaves': 70, 'objective': 'multiclass', 'reg_alpha': 0.18465492369746947, 'reg_lambda': 0.8135819608691979, 'seed': 80, 'subsample': 0.9311383940526592, 'verbose': -1}\n",
      "[LightGBM] [Warning] min_data_in_leaf is set=99, min_child_samples=30 will be ignored. Current value: min_data_in_leaf=99\n",
      "Training until validation scores don't improve for 20 rounds                      \n",
      "Early stopping, best iteration is:                                                \n",
      "[18]\ttraining's multi_error: 0.453726\tvalid_1's multi_error: 0.771084\n",
      "13.499999999999986                                                                \n",
      "{'boosting': 'gbdt', 'feature_fraction': 0.6562560949810741, 'learning_rate': 0.03, 'max_depth': 15, 'metric': 'multi_error', 'min_child_samples': 80, 'min_data_in_leaf': 99, 'n_estimators': 300, 'num_class': 14, 'num_leaves': 40, 'objective': 'multiclass', 'reg_alpha': 0.0046842437093799205, 'reg_lambda': 0.4417572628779356, 'seed': 80, 'subsample': 0.9983614252066839, 'verbose': -1}\n",
      "[LightGBM] [Warning] min_data_in_leaf is set=99, min_child_samples=30 will be ignored. Current value: min_data_in_leaf=99\n",
      "Training until validation scores don't improve for 20 rounds                      \n",
      "Early stopping, best iteration is:                                                \n",
      "[7]\ttraining's multi_error: 0.568901\tvalid_1's multi_error: 0.759036\n",
      "-8.399999999999991                                                                \n",
      "{'boosting': 'gbdt', 'feature_fraction': 0.5013304169787899, 'learning_rate': 0.03, 'max_depth': 14, 'metric': 'multi_error', 'min_child_samples': 60, 'min_data_in_leaf': 99, 'n_estimators': 300, 'num_class': 14, 'num_leaves': 50, 'objective': 'multiclass', 'reg_alpha': 0.09155131816728812, 'reg_lambda': 0.9134820279426143, 'seed': 80, 'subsample': 0.9456438805076061, 'verbose': -1}\n",
      "[LightGBM] [Warning] min_data_in_leaf is set=99, min_child_samples=30 will be ignored. Current value: min_data_in_leaf=99\n",
      "Training until validation scores don't improve for 20 rounds                      \n",
      "Early stopping, best iteration is:                                                \n",
      "[15]\ttraining's multi_error: 0.463593\tvalid_1's multi_error: 0.722892\n",
      "5.0                                                                               \n",
      "{'boosting': 'gbdt', 'feature_fraction': 0.5844474441753398, 'learning_rate': 0.03, 'max_depth': 15, 'metric': 'multi_error', 'min_child_samples': 40, 'min_data_in_leaf': 99, 'n_estimators': 300, 'num_class': 14, 'num_leaves': 50, 'objective': 'multiclass', 'reg_alpha': 0.5006610066776165, 'reg_lambda': 0.7957633997576359, 'seed': 80, 'subsample': 0.8930196851293075, 'verbose': -1}\n",
      "[LightGBM] [Warning] min_data_in_leaf is set=99, min_child_samples=30 will be ignored. Current value: min_data_in_leaf=99\n",
      "Training until validation scores don't improve for 20 rounds                      \n",
      "Early stopping, best iteration is:                                                \n",
      "[12]\ttraining's multi_error: 0.50034\tvalid_1's multi_error: 0.746988\n",
      "9.299999999999997                                                                 \n",
      "{'boosting': 'gbdt', 'feature_fraction': 0.7414684762707583, 'learning_rate': 0.03, 'max_depth': 15, 'metric': 'multi_error', 'min_child_samples': 90, 'min_data_in_leaf': 99, 'n_estimators': 300, 'num_class': 14, 'num_leaves': 50, 'objective': 'multiclass', 'reg_alpha': 0.247115440852963, 'reg_lambda': 0.9902698716506413, 'seed': 80, 'subsample': 0.8563480106799997, 'verbose': -1}\n",
      "[LightGBM] [Warning] min_data_in_leaf is set=99, min_child_samples=30 will be ignored. Current value: min_data_in_leaf=99\n",
      "Training until validation scores don't improve for 20 rounds                      \n",
      "Early stopping, best iteration is:                                                \n",
      "[8]\ttraining's multi_error: 0.560395\tvalid_1's multi_error: 0.771084\n",
      "-10.699999999999989                                                               \n",
      "{'boosting': 'gbdt', 'feature_fraction': 0.8381854742828717, 'learning_rate': 0.03, 'max_depth': 12, 'metric': 'multi_error', 'min_child_samples': 30, 'min_data_in_leaf': 99, 'n_estimators': 300, 'num_class': 14, 'num_leaves': 60, 'objective': 'multiclass', 'reg_alpha': 0.41661787669813566, 'reg_lambda': 0.8923513633382834, 'seed': 80, 'subsample': 0.8001680187911329, 'verbose': -1}\n",
      "[LightGBM] [Warning] min_data_in_leaf is set=99, min_child_samples=30 will be ignored. Current value: min_data_in_leaf=99\n",
      "Training until validation scores don't improve for 20 rounds                      \n",
      "Early stopping, best iteration is:                                                \n",
      "[12]\ttraining's multi_error: 0.510718\tvalid_1's multi_error: 0.771084\n",
      "-2.799999999999997                                                                \n",
      "{'boosting': 'gbdt', 'feature_fraction': 0.5298440940039546, 'learning_rate': 0.03, 'max_depth': 7, 'metric': 'multi_error', 'min_child_samples': 90, 'min_data_in_leaf': 99, 'n_estimators': 300, 'num_class': 14, 'num_leaves': 40, 'objective': 'multiclass', 'reg_alpha': 0.17706388757426805, 'reg_lambda': 0.663724465204538, 'seed': 80, 'subsample': 0.9756264776892118, 'verbose': -1}\n",
      "[LightGBM] [Warning] min_data_in_leaf is set=99, min_child_samples=30 will be ignored. Current value: min_data_in_leaf=99\n",
      "Training until validation scores don't improve for 20 rounds                      \n",
      "Early stopping, best iteration is:                                                \n",
      "[12]\ttraining's multi_error: 0.514971\tvalid_1's multi_error: 0.746988\n",
      "5.699999999999989                                                                 \n",
      "100%|██████████| 30/30 [12:08<00:00, 24.28s/trial, best loss: -27.399999999999977]\n",
      "{'boosting': 'gbdt', 'feature_fraction': 0.6042026192575536, 'learning_rate': 0.03, 'max_depth': 9, 'metric': 'multi_error', 'min_child_samples': 90, 'min_data_in_leaf': 99, 'n_estimators': 300, 'num_class': 14, 'num_leaves': 50, 'objective': 'multiclass', 'reg_alpha': 0.31186552003189416, 'reg_lambda': 0.6761943121545444, 'seed': 80, 'subsample': 0.8770233558607736, 'verbose': -1}\n"
     ]
    }
   ],
   "source": [
    "lgb_train = lgb.Dataset(X_train, label=y_train_value)\n",
    "lgb_valid = lgb.Dataset(X_test, label=y_test_value)\n",
    "#del X_train, y_train\n",
    "z = gc.collect()\n",
    "\n",
    "def evaluate_metric(params):\n",
    "    print(params)\n",
    "    model = lgb.train(params, lgb_train,num_boost_round = 3000, valid_sets=[lgb_train, lgb_valid],\n",
    "                           early_stopping_rounds=20, verbose_eval=200, )\n",
    "\n",
    "    pred = model.predict(X_test)\n",
    "    pred = [np.argmax(p) for p in pred]\n",
    "    \n",
    "    \n",
    "    ##METRICS PERSO\n",
    "    \n",
    "    score = -1 * metrics_perso(pred,y_test_value,X_TEST)\n",
    "    \n",
    "    ###Idrissa\n",
    "    #score = -f1_score(y_test_value,pred, average = 'macro') # Hyperopt tries to minimize error by default\n",
    "    \n",
    "    print(score)\n",
    "  \n",
    "    \n",
    "    global results_hyperopt\n",
    "    results_hyperopt = pd.concat([results_hyperopt,pd.DataFrame({\n",
    "                          \"Score\": score,\n",
    "                          \"Parameters\": [params]})])\n",
    "   \n",
    "    \n",
    "    return {'loss': score,'status': STATUS_OK,'stats_running': STATUS_RUNNING}\n",
    "\n",
    "\n",
    "# Trail\n",
    "trials = Trials()\n",
    "# Set algoritm parameters\n",
    "algo = partial(tpe.suggest, n_startup_jobs=-1)\n",
    "# Setting the number of evals\n",
    "MAX_EVALS = 30\n",
    "best_vals = fmin(evaluate_metric, space=hyper_space, verbose=1, algo=algo, max_evals=MAX_EVALS, trials=trials)\n",
    "# Print best parameters\n",
    "best_params = space_eval(hyper_space, best_vals)\n",
    "print(best_params)"
   ]
  },
  {
   "cell_type": "code",
   "execution_count": 64,
   "id": "b61df61a",
   "metadata": {},
   "outputs": [],
   "source": [
    "#save results\n",
    "results_hyperopt.to_csv('results_hyperopt.csv')"
   ]
  },
  {
   "cell_type": "code",
   "execution_count": 18,
   "id": "c454b988",
   "metadata": {},
   "outputs": [
    {
     "data": {
      "text/html": [
       "<div>\n",
       "<style scoped>\n",
       "    .dataframe tbody tr th:only-of-type {\n",
       "        vertical-align: middle;\n",
       "    }\n",
       "\n",
       "    .dataframe tbody tr th {\n",
       "        vertical-align: top;\n",
       "    }\n",
       "\n",
       "    .dataframe thead th {\n",
       "        text-align: right;\n",
       "    }\n",
       "</style>\n",
       "<table border=\"1\" class=\"dataframe\">\n",
       "  <thead>\n",
       "    <tr style=\"text-align: right;\">\n",
       "      <th></th>\n",
       "      <th>Score</th>\n",
       "      <th>Parameters</th>\n",
       "    </tr>\n",
       "  </thead>\n",
       "  <tbody>\n",
       "    <tr>\n",
       "      <th>0</th>\n",
       "      <td>-3.8</td>\n",
       "      <td>{'boosting': 'gbdt', 'feature_fraction': 0.621...</td>\n",
       "    </tr>\n",
       "    <tr>\n",
       "      <th>0</th>\n",
       "      <td>18.5</td>\n",
       "      <td>{'boosting': 'gbdt', 'feature_fraction': 0.768...</td>\n",
       "    </tr>\n",
       "    <tr>\n",
       "      <th>0</th>\n",
       "      <td>-5.2</td>\n",
       "      <td>{'boosting': 'gbdt', 'feature_fraction': 0.766...</td>\n",
       "    </tr>\n",
       "  </tbody>\n",
       "</table>\n",
       "</div>"
      ],
      "text/plain": [
       "   Score                                         Parameters\n",
       "0   -3.8  {'boosting': 'gbdt', 'feature_fraction': 0.621...\n",
       "0   18.5  {'boosting': 'gbdt', 'feature_fraction': 0.768...\n",
       "0   -5.2  {'boosting': 'gbdt', 'feature_fraction': 0.766..."
      ]
     },
     "execution_count": 18,
     "metadata": {},
     "output_type": "execute_result"
    }
   ],
   "source": [
    "results_hyperopt.head(3)"
   ]
  },
  {
   "cell_type": "markdown",
   "id": "f861c0f0",
   "metadata": {},
   "source": [
    "We sort this dataframe and take the best parameters for the lgbm train in the next notebook"
   ]
  },
  {
   "cell_type": "code",
   "execution_count": 19,
   "id": "6162f0c4",
   "metadata": {},
   "outputs": [
    {
     "data": {
      "text/html": [
       "<div>\n",
       "<style scoped>\n",
       "    .dataframe tbody tr th:only-of-type {\n",
       "        vertical-align: middle;\n",
       "    }\n",
       "\n",
       "    .dataframe tbody tr th {\n",
       "        vertical-align: top;\n",
       "    }\n",
       "\n",
       "    .dataframe thead th {\n",
       "        text-align: right;\n",
       "    }\n",
       "</style>\n",
       "<table border=\"1\" class=\"dataframe\">\n",
       "  <thead>\n",
       "    <tr style=\"text-align: right;\">\n",
       "      <th></th>\n",
       "      <th>Score</th>\n",
       "      <th>Parameters</th>\n",
       "    </tr>\n",
       "  </thead>\n",
       "  <tbody>\n",
       "    <tr>\n",
       "      <th>0</th>\n",
       "      <td>-27.4</td>\n",
       "      <td>{'boosting': 'gbdt', 'feature_fraction': 0.604...</td>\n",
       "    </tr>\n",
       "    <tr>\n",
       "      <th>0</th>\n",
       "      <td>-20.7</td>\n",
       "      <td>{'boosting': 'gbdt', 'feature_fraction': 0.600...</td>\n",
       "    </tr>\n",
       "    <tr>\n",
       "      <th>0</th>\n",
       "      <td>-15.1</td>\n",
       "      <td>{'boosting': 'gbdt', 'feature_fraction': 0.596...</td>\n",
       "    </tr>\n",
       "  </tbody>\n",
       "</table>\n",
       "</div>"
      ],
      "text/plain": [
       "   Score                                         Parameters\n",
       "0  -27.4  {'boosting': 'gbdt', 'feature_fraction': 0.604...\n",
       "0  -20.7  {'boosting': 'gbdt', 'feature_fraction': 0.600...\n",
       "0  -15.1  {'boosting': 'gbdt', 'feature_fraction': 0.596..."
      ]
     },
     "execution_count": 19,
     "metadata": {},
     "output_type": "execute_result"
    },
    {
     "data": {
      "text/plain": [
       "{'boosting': 'gbdt',\n",
       " 'feature_fraction': 0.6,\n",
       " 'learning_rate': 0.03,\n",
       " 'max_depth': 9,\n",
       " 'metric': 'multi_error',\n",
       " 'min_child_samples': 90,\n",
       " 'min_data_in_leaf': 99,\n",
       " 'n_estimators': 300,\n",
       " 'num_class': 14,\n",
       " 'num_leaves': 50,\n",
       " 'objective': 'multiclass',\n",
       " 'reg_alpha': 0.31,\n",
       " 'reg_lambda': 0.68,\n",
       " 'seed': 80,\n",
       " 'subsample': 0.88,\n",
       " 'verbose': -1}"
      ]
     },
     "execution_count": 19,
     "metadata": {},
     "output_type": "execute_result"
    }
   ],
   "source": [
    "parameters = pd.read_csv('results_hyperopt.csv',header = 0, names=[\"Score\",\"Parameters\"]).sort_values(by=\"Score\",ascending = True)\n",
    "parameters.head(3)\n",
    "\n",
    "#convert str to a dict\n",
    "import ast\n",
    "best_params = ast.literal_eval(parameters.iloc[0].Parameters)\n",
    "#best_params\n",
    "\n",
    "#round values to only two after the coma for besr params\n",
    "for k, v in best_params.items():\n",
    "    if isinstance(best_params[k], float):\n",
    "        best_params[k] = round(v, 2)\n",
    "        \n",
    "best_params"
   ]
  },
  {
   "cell_type": "code",
   "execution_count": null,
   "id": "f67bdc7f",
   "metadata": {},
   "outputs": [],
   "source": []
  },
  {
   "cell_type": "code",
   "execution_count": null,
   "id": "80448e8a",
   "metadata": {},
   "outputs": [],
   "source": []
  },
  {
   "cell_type": "code",
   "execution_count": null,
   "id": "2ed26418",
   "metadata": {},
   "outputs": [],
   "source": []
  },
  {
   "cell_type": "markdown",
   "id": "9bfd6d08",
   "metadata": {},
   "source": [
    "## We can use this part below to check our paramaters"
   ]
  },
  {
   "cell_type": "code",
   "execution_count": 67,
   "id": "1d7f9e74",
   "metadata": {},
   "outputs": [
    {
     "name": "stdout",
     "output_type": "stream",
     "text": [
      "[LightGBM] [Warning] boosting is set=gbdt, boosting_type=gbdt will be ignored. Current value: boosting=gbdt\n",
      "[LightGBM] [Warning] feature_fraction is set=0.6, colsample_bytree=1.0 will be ignored. Current value: feature_fraction=0.6\n",
      "[LightGBM] [Warning] min_data_in_leaf is set=99, min_child_samples=90 will be ignored. Current value: min_data_in_leaf=99\n"
     ]
    }
   ],
   "source": [
    "classifier = LGBMClassifier(**best_params).fit(X_train, y_train_value)"
   ]
  },
  {
   "cell_type": "code",
   "execution_count": 68,
   "id": "6b4a725c",
   "metadata": {},
   "outputs": [],
   "source": [
    "y_pred_lgbm = classifier.predict(X_test)"
   ]
  },
  {
   "cell_type": "code",
   "execution_count": 69,
   "id": "29c3e413",
   "metadata": {},
   "outputs": [
    {
     "name": "stdout",
     "output_type": "stream",
     "text": [
      "how many good guess we made 18 over 83 bets.\n",
      "it's a percentage of 21.686746987951807 success\n",
      "we win $89.19999999999999 from our bet and the mean of the win_odds is 4.955555555555555\n",
      "the mean win_odds for the favorite 3.1397590361445777\n",
      "we have a profit of 6.199999999999989\n"
     ]
    }
   ],
   "source": [
    "X_TEST = create_X_TEST(X_test_init)\n",
    "good_guesses = np.equal(y_pred_lgbm, y_test_value).sum()\n",
    "hm_bet = len(y_pred_lgbm)\n",
    "\n",
    "a,b = how_many_do_we_win(y_pred_lgbm,y_test_value,X_TEST)\n",
    "\n",
    "profil_lgbm = a-hm_bet\n",
    "\n",
    "if True :\n",
    "\n",
    "    print(f'How many good guess we made {good_guesses} over {hm_bet} bets.') \n",
    "    print(f\"It's a percentage of {100*(good_guesses/hm_bet)} success\") \n",
    "    print(f\"We win ${a} from our bet and the mean of the win_odds is {b}\")\n",
    "    print(f\"The mean win_odds for the favorite {function_less_won_odds(X_TEST)}\")\n",
    "    print(f\"We have a profit of {a-hm_bet}\")"
   ]
  },
  {
   "cell_type": "code",
   "execution_count": 33,
   "id": "3d43a136",
   "metadata": {},
   "outputs": [
    {
     "data": {
      "text/plain": [
       "<AxesSubplot:title={'center':'Feature importance'}, xlabel='Feature importance', ylabel='Features'>"
      ]
     },
     "execution_count": 33,
     "metadata": {},
     "output_type": "execute_result"
    },
    {
     "data": {
      "image/png": "[encoded data removed]",
      "text/plain": [
       "<Figure size 1332x756 with 1 Axes>"
      ]
     },
     "metadata": {
      "needs_background": "light"
     },
     "output_type": "display_data"
    }
   ],
   "source": [
    "plot_importance(classifier1,max_num_features=20)\n",
    "pyplot.gcf().set_size_inches(18.5, 10.5)\n",
    "pyplot.show()"
   ]
  },
  {
   "cell_type": "code",
   "execution_count": null,
   "id": "af1437e2",
   "metadata": {},
   "outputs": [],
   "source": []
  }
 ],
 "metadata": {
  "environment": {
   "name": "tf2-gpu.2-4.m65",
   "type": "gcloud",
   "uri": "gcr.io/deeplearning-platform-release/tf2-gpu.2-4:m65"
  },
  "kernelspec": {
   "display_name": "Python 3",
   "language": "python",
   "name": "python3"
  },
  "language_info": {
   "codemirror_mode": {
    "name": "ipython",
    "version": 3
   },
   "file_extension": ".py",
   "mimetype": "text/x-python",
   "name": "python",
   "nbconvert_exporter": "python",
   "pygments_lexer": "ipython3",
   "version": "3.7.10"
  }
 },
 "nbformat": 4,
 "nbformat_minor": 5
}
