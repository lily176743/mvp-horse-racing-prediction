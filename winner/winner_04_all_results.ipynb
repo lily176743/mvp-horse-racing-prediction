{
 "cells": [
  {
   "cell_type": "markdown",
   "id": "8733e2f4",
   "metadata": {},
   "source": [
    "# This notebook give us the final results for both models and all months together\n",
    "# We will use this notebook to compare those results to our initials baselines models"
   ]
  },
  {
   "cell_type": "markdown",
   "id": "71f01dbe",
   "metadata": {},
   "source": [
    "## Import libraries"
   ]
  },
  {
   "cell_type": "code",
   "execution_count": 1,
   "id": "14d7e1f5",
   "metadata": {},
   "outputs": [
    {
     "name": "stderr",
     "output_type": "stream",
     "text": [
      "Using TensorFlow backend.\n"
     ]
    }
   ],
   "source": [
    "import pandas as pd\n",
    "import numpy as np\n",
    "import keras\n",
    "import tensorflow as tf\n",
    "import sklearn.preprocessing as preprocessing\n",
    "import sklearn.model_selection as model_selection\n",
    "import matplotlib.pyplot as plt\n",
    "from matplotlib import pyplot\n",
    "from winner_functions import *\n",
    "from IPython.core.interactiveshell import InteractiveShell\n",
    "InteractiveShell.ast_node_interactivity = \"all\"\n",
    "\n",
    "import joblib\n",
    "\n",
    "\n",
    "from lightgbm import plot_importance\n",
    "from lightgbm import LGBMClassifier"
   ]
  },
  {
   "cell_type": "markdown",
   "id": "99d5f6ab",
   "metadata": {},
   "source": [
    "## Predict and compute all sets"
   ]
  },
  {
   "cell_type": "code",
   "execution_count": 2,
   "id": "8c14ca88",
   "metadata": {},
   "outputs": [
    {
     "name": "stdout",
     "output_type": "stream",
     "text": [
      "The month is 01\n",
      "shape of the x_train:  (5878, 1618)\n",
      "shape of the y_train:  (5878, 14)\n",
      "shape of the x_train:  (83, 1618)\n",
      "shape of the y_train:  (83, 14)\n"
     ]
    },
    {
     "name": "stderr",
     "output_type": "stream",
     "text": [
      "/opt/conda/lib/python3.7/site-packages/tensorflow/python/keras/engine/sequential.py:450: UserWarning: `model.predict_classes()` is deprecated and will be removed after 2021-01-01. Please use instead:* `np.argmax(model.predict(x), axis=-1)`,   if your model does multi-class classification   (e.g. if it uses a `softmax` last-layer activation).* `(model.predict(x) > 0.5).astype(\"int32\")`,   if your model does binary classification   (e.g. if it uses a `sigmoid` last-layer activation).\n",
      "  warnings.warn('`model.predict_classes()` is deprecated and '\n",
      "/opt/conda/lib/python3.7/site-packages/tensorflow/python/keras/engine/sequential.py:425: UserWarning: `model.predict_proba()` is deprecated and will be removed after 2021-01-01. Please use `model.predict()` instead.\n",
      "  warnings.warn('`model.predict_proba()` is deprecated and '\n"
     ]
    },
    {
     "name": "stdout",
     "output_type": "stream",
     "text": [
      "The month is 02\n",
      "shape of the x_train:  (5961, 1618)\n",
      "shape of the y_train:  (5961, 14)\n",
      "shape of the x_train:  (69, 1618)\n",
      "shape of the y_train:  (69, 14)\n"
     ]
    },
    {
     "name": "stderr",
     "output_type": "stream",
     "text": [
      "/opt/conda/lib/python3.7/site-packages/tensorflow/python/keras/engine/sequential.py:450: UserWarning: `model.predict_classes()` is deprecated and will be removed after 2021-01-01. Please use instead:* `np.argmax(model.predict(x), axis=-1)`,   if your model does multi-class classification   (e.g. if it uses a `softmax` last-layer activation).* `(model.predict(x) > 0.5).astype(\"int32\")`,   if your model does binary classification   (e.g. if it uses a `sigmoid` last-layer activation).\n",
      "  warnings.warn('`model.predict_classes()` is deprecated and '\n",
      "/opt/conda/lib/python3.7/site-packages/tensorflow/python/keras/engine/sequential.py:425: UserWarning: `model.predict_proba()` is deprecated and will be removed after 2021-01-01. Please use `model.predict()` instead.\n",
      "  warnings.warn('`model.predict_proba()` is deprecated and '\n"
     ]
    },
    {
     "name": "stdout",
     "output_type": "stream",
     "text": [
      "The month is 03\n",
      "shape of the x_train:  (6030, 1618)\n",
      "shape of the y_train:  (6030, 14)\n",
      "shape of the x_train:  (68, 1618)\n",
      "shape of the y_train:  (68, 14)\n"
     ]
    },
    {
     "name": "stderr",
     "output_type": "stream",
     "text": [
      "/opt/conda/lib/python3.7/site-packages/tensorflow/python/keras/engine/sequential.py:450: UserWarning: `model.predict_classes()` is deprecated and will be removed after 2021-01-01. Please use instead:* `np.argmax(model.predict(x), axis=-1)`,   if your model does multi-class classification   (e.g. if it uses a `softmax` last-layer activation).* `(model.predict(x) > 0.5).astype(\"int32\")`,   if your model does binary classification   (e.g. if it uses a `sigmoid` last-layer activation).\n",
      "  warnings.warn('`model.predict_classes()` is deprecated and '\n",
      "/opt/conda/lib/python3.7/site-packages/tensorflow/python/keras/engine/sequential.py:425: UserWarning: `model.predict_proba()` is deprecated and will be removed after 2021-01-01. Please use `model.predict()` instead.\n",
      "  warnings.warn('`model.predict_proba()` is deprecated and '\n"
     ]
    },
    {
     "name": "stdout",
     "output_type": "stream",
     "text": [
      "The month is 05\n",
      "shape of the x_train:  (6098, 1618)\n",
      "shape of the y_train:  (6098, 14)\n",
      "shape of the x_train:  (20, 1618)\n",
      "shape of the y_train:  (20, 14)\n"
     ]
    },
    {
     "name": "stderr",
     "output_type": "stream",
     "text": [
      "/opt/conda/lib/python3.7/site-packages/tensorflow/python/keras/engine/sequential.py:450: UserWarning: `model.predict_classes()` is deprecated and will be removed after 2021-01-01. Please use instead:* `np.argmax(model.predict(x), axis=-1)`,   if your model does multi-class classification   (e.g. if it uses a `softmax` last-layer activation).* `(model.predict(x) > 0.5).astype(\"int32\")`,   if your model does binary classification   (e.g. if it uses a `sigmoid` last-layer activation).\n",
      "  warnings.warn('`model.predict_classes()` is deprecated and '\n",
      "/opt/conda/lib/python3.7/site-packages/tensorflow/python/keras/engine/sequential.py:425: UserWarning: `model.predict_proba()` is deprecated and will be removed after 2021-01-01. Please use `model.predict()` instead.\n",
      "  warnings.warn('`model.predict_proba()` is deprecated and '\n"
     ]
    },
    {
     "name": "stdout",
     "output_type": "stream",
     "text": [
      "The month is 06\n",
      "shape of the x_train:  (6118, 1618)\n",
      "shape of the y_train:  (6118, 14)\n",
      "shape of the x_train:  (73, 1618)\n",
      "shape of the y_train:  (73, 14)\n"
     ]
    },
    {
     "name": "stderr",
     "output_type": "stream",
     "text": [
      "/opt/conda/lib/python3.7/site-packages/tensorflow/python/keras/engine/sequential.py:450: UserWarning: `model.predict_classes()` is deprecated and will be removed after 2021-01-01. Please use instead:* `np.argmax(model.predict(x), axis=-1)`,   if your model does multi-class classification   (e.g. if it uses a `softmax` last-layer activation).* `(model.predict(x) > 0.5).astype(\"int32\")`,   if your model does binary classification   (e.g. if it uses a `sigmoid` last-layer activation).\n",
      "  warnings.warn('`model.predict_classes()` is deprecated and '\n",
      "/opt/conda/lib/python3.7/site-packages/tensorflow/python/keras/engine/sequential.py:425: UserWarning: `model.predict_proba()` is deprecated and will be removed after 2021-01-01. Please use `model.predict()` instead.\n",
      "  warnings.warn('`model.predict_proba()` is deprecated and '\n"
     ]
    },
    {
     "name": "stdout",
     "output_type": "stream",
     "text": [
      "The month is 07\n",
      "shape of the x_train:  (6191, 1618)\n",
      "shape of the y_train:  (6191, 14)\n",
      "shape of the x_train:  (83, 1618)\n",
      "shape of the y_train:  (83, 14)\n"
     ]
    },
    {
     "name": "stderr",
     "output_type": "stream",
     "text": [
      "/opt/conda/lib/python3.7/site-packages/tensorflow/python/keras/engine/sequential.py:450: UserWarning: `model.predict_classes()` is deprecated and will be removed after 2021-01-01. Please use instead:* `np.argmax(model.predict(x), axis=-1)`,   if your model does multi-class classification   (e.g. if it uses a `softmax` last-layer activation).* `(model.predict(x) > 0.5).astype(\"int32\")`,   if your model does binary classification   (e.g. if it uses a `sigmoid` last-layer activation).\n",
      "  warnings.warn('`model.predict_classes()` is deprecated and '\n",
      "/opt/conda/lib/python3.7/site-packages/tensorflow/python/keras/engine/sequential.py:425: UserWarning: `model.predict_proba()` is deprecated and will be removed after 2021-01-01. Please use `model.predict()` instead.\n",
      "  warnings.warn('`model.predict_proba()` is deprecated and '\n"
     ]
    },
    {
     "name": "stdout",
     "output_type": "stream",
     "text": [
      "The month is 08\n",
      "shape of the x_train:  (6274, 1618)\n",
      "shape of the y_train:  (6274, 14)\n",
      "shape of the x_train:  (74, 1618)\n",
      "shape of the y_train:  (74, 14)\n"
     ]
    },
    {
     "name": "stderr",
     "output_type": "stream",
     "text": [
      "/opt/conda/lib/python3.7/site-packages/tensorflow/python/keras/engine/sequential.py:450: UserWarning: `model.predict_classes()` is deprecated and will be removed after 2021-01-01. Please use instead:* `np.argmax(model.predict(x), axis=-1)`,   if your model does multi-class classification   (e.g. if it uses a `softmax` last-layer activation).* `(model.predict(x) > 0.5).astype(\"int32\")`,   if your model does binary classification   (e.g. if it uses a `sigmoid` last-layer activation).\n",
      "  warnings.warn('`model.predict_classes()` is deprecated and '\n",
      "/opt/conda/lib/python3.7/site-packages/tensorflow/python/keras/engine/sequential.py:425: UserWarning: `model.predict_proba()` is deprecated and will be removed after 2021-01-01. Please use `model.predict()` instead.\n",
      "  warnings.warn('`model.predict_proba()` is deprecated and '\n"
     ]
    }
   ],
   "source": [
    "all_month = ['01', '02','03','05', '06','07', '08']\n",
    "\n",
    "\n",
    "DL = []\n",
    "lgbm = []\n",
    "result = []\n",
    "percentage_dl = []\n",
    "percentage_lgbm = []\n",
    "percentage_conso = []\n",
    "hm_bets = []\n",
    "\n",
    "for month in all_month:\n",
    "    print(f'The month is {month}')\n",
    "    display = False\n",
    "    save_model = False\n",
    "    X_train, y_train, X_test, y_test, y_train_value, y_test_value, X_test_init = prepare_and_split_data(pd.read_hdf(f'../data/{month}_train_runners.h5','features'),\n",
    "                                                                              pd.read_hdf(f'../data/{month}_test_runners.h5','features'))\n",
    "\n",
    "    profit_DL, profil_lgbm, pred_proba_dl, pred_proba_xgb, profil_ensemble, perc_dl, perc_lgbm, perc_conso, hm_bet = compute_profil(month, X_train, y_train, X_test, y_test, y_train_value, y_test_value, X_test_init)\n",
    "\n",
    "    DL.append([month,profit_DL,pred_proba_dl])\n",
    "    lgbm.append([month,profil_lgbm,pred_proba_xgb])\n",
    "    result.append(profil_ensemble)\n",
    "    percentage_dl.append(perc_dl)\n",
    "    percentage_lgbm.append(perc_lgbm)\n",
    "    percentage_conso.append(perc_conso)\n",
    "    hm_bets.append(hm_bet)"
   ]
  },
  {
   "cell_type": "code",
   "execution_count": 3,
   "id": "0d6fd014",
   "metadata": {},
   "outputs": [],
   "source": [
    "# We prepare our data to display the final table\n",
    "\n",
    "sets = [dl[0] for dl in DL]\n",
    "deep_l = [dl[1] for dl in DL]\n",
    "lightgbm = [lg[1] for lg in lgbm]\n",
    "sets.append('Total')\n",
    "deep_l.append(sum(deep_l))\n",
    "lightgbm.append(sum(lightgbm))\n",
    "result.append(sum(result))\n",
    "p_dl = percentage_dl\n",
    "p_dl.append(round(np.mean(p_dl),2))\n",
    "p_lgbm = percentage_lgbm\n",
    "p_lgbm.append(round(np.mean(p_lgbm),2))\n",
    "p_conso = percentage_conso\n",
    "p_conso.append(round(np.mean(p_conso),2))\n",
    "bets = hm_bets\n",
    "bets.append(sum(hm_bets))\n",
    "\n",
    "V = []\n",
    "for i in range(len(sets)):\n",
    "    V.append([sets[i],bets[i], deep_l[i],p_dl[i], lightgbm[i],p_lgbm[i], result[i], p_conso[i]])"
   ]
  },
  {
   "cell_type": "code",
   "execution_count": 4,
   "id": "09572005",
   "metadata": {},
   "outputs": [
    {
     "data": {
      "text/html": [
       "<div>\n",
       "<style scoped>\n",
       "    .dataframe tbody tr th:only-of-type {\n",
       "        vertical-align: middle;\n",
       "    }\n",
       "\n",
       "    .dataframe tbody tr th {\n",
       "        vertical-align: top;\n",
       "    }\n",
       "\n",
       "    .dataframe thead tr th {\n",
       "        text-align: left;\n",
       "    }\n",
       "</style>\n",
       "<table border=\"1\" class=\"dataframe\">\n",
       "  <thead>\n",
       "    <tr>\n",
       "      <th></th>\n",
       "      <th>Set</th>\n",
       "      <th># bets</th>\n",
       "      <th colspan=\"2\" halign=\"left\">Deep Learning</th>\n",
       "      <th colspan=\"2\" halign=\"left\">LGBM</th>\n",
       "      <th colspan=\"2\" halign=\"left\">Ensemble Model</th>\n",
       "    </tr>\n",
       "    <tr>\n",
       "      <th></th>\n",
       "      <th></th>\n",
       "      <th></th>\n",
       "      <th>profit $</th>\n",
       "      <th>% of successful bets</th>\n",
       "      <th>profit $</th>\n",
       "      <th>% of successful bets</th>\n",
       "      <th>profit $</th>\n",
       "      <th>% of successful bets</th>\n",
       "    </tr>\n",
       "  </thead>\n",
       "  <tbody>\n",
       "    <tr>\n",
       "      <th>0</th>\n",
       "      <td>01</td>\n",
       "      <td>83</td>\n",
       "      <td>31.3</td>\n",
       "      <td>18.07</td>\n",
       "      <td>6.2</td>\n",
       "      <td>21.69</td>\n",
       "      <td>16.5</td>\n",
       "      <td>19.28</td>\n",
       "    </tr>\n",
       "    <tr>\n",
       "      <th>1</th>\n",
       "      <td>02</td>\n",
       "      <td>69</td>\n",
       "      <td>-10.2</td>\n",
       "      <td>17.39</td>\n",
       "      <td>-16.8</td>\n",
       "      <td>20.29</td>\n",
       "      <td>-38.6</td>\n",
       "      <td>15.94</td>\n",
       "    </tr>\n",
       "    <tr>\n",
       "      <th>2</th>\n",
       "      <td>03</td>\n",
       "      <td>68</td>\n",
       "      <td>6.4</td>\n",
       "      <td>19.12</td>\n",
       "      <td>-19.3</td>\n",
       "      <td>23.53</td>\n",
       "      <td>42.3</td>\n",
       "      <td>26.47</td>\n",
       "    </tr>\n",
       "    <tr>\n",
       "      <th>3</th>\n",
       "      <td>05</td>\n",
       "      <td>20</td>\n",
       "      <td>-7.1</td>\n",
       "      <td>10.00</td>\n",
       "      <td>2.4</td>\n",
       "      <td>30.00</td>\n",
       "      <td>3.1</td>\n",
       "      <td>25.00</td>\n",
       "    </tr>\n",
       "    <tr>\n",
       "      <th>4</th>\n",
       "      <td>06</td>\n",
       "      <td>73</td>\n",
       "      <td>-3.3</td>\n",
       "      <td>23.29</td>\n",
       "      <td>-19.4</td>\n",
       "      <td>21.92</td>\n",
       "      <td>-13.3</td>\n",
       "      <td>21.92</td>\n",
       "    </tr>\n",
       "    <tr>\n",
       "      <th>5</th>\n",
       "      <td>07</td>\n",
       "      <td>83</td>\n",
       "      <td>-0.6</td>\n",
       "      <td>18.07</td>\n",
       "      <td>-19.3</td>\n",
       "      <td>19.28</td>\n",
       "      <td>10.8</td>\n",
       "      <td>24.10</td>\n",
       "    </tr>\n",
       "    <tr>\n",
       "      <th>6</th>\n",
       "      <td>08</td>\n",
       "      <td>74</td>\n",
       "      <td>-44.4</td>\n",
       "      <td>12.16</td>\n",
       "      <td>3.1</td>\n",
       "      <td>24.32</td>\n",
       "      <td>-29.5</td>\n",
       "      <td>18.92</td>\n",
       "    </tr>\n",
       "    <tr>\n",
       "      <th>7</th>\n",
       "      <td>Total</td>\n",
       "      <td>470</td>\n",
       "      <td>-27.9</td>\n",
       "      <td>16.87</td>\n",
       "      <td>-63.1</td>\n",
       "      <td>23.00</td>\n",
       "      <td>-8.7</td>\n",
       "      <td>21.66</td>\n",
       "    </tr>\n",
       "  </tbody>\n",
       "</table>\n",
       "</div>"
      ],
      "text/plain": [
       "     Set # bets Deep Learning                          LGBM  \\\n",
       "                     profit $ % of successful bets profit $   \n",
       "0     01     83          31.3                18.07      6.2   \n",
       "1     02     69         -10.2                17.39    -16.8   \n",
       "2     03     68           6.4                19.12    -19.3   \n",
       "3     05     20          -7.1                10.00      2.4   \n",
       "4     06     73          -3.3                23.29    -19.4   \n",
       "5     07     83          -0.6                18.07    -19.3   \n",
       "6     08     74         -44.4                12.16      3.1   \n",
       "7  Total    470         -27.9                16.87    -63.1   \n",
       "\n",
       "                       Ensemble Model                       \n",
       "  % of successful bets       profit $ % of successful bets  \n",
       "0                21.69           16.5                19.28  \n",
       "1                20.29          -38.6                15.94  \n",
       "2                23.53           42.3                26.47  \n",
       "3                30.00            3.1                25.00  \n",
       "4                21.92          -13.3                21.92  \n",
       "5                19.28           10.8                24.10  \n",
       "6                24.32          -29.5                18.92  \n",
       "7                23.00           -8.7                21.66  "
      ]
     },
     "execution_count": 4,
     "metadata": {},
     "output_type": "execute_result"
    }
   ],
   "source": [
    "consolidated_result = pd.DataFrame(V)\n",
    "\n",
    "#we change the columns names\n",
    "consolidated_result.columns = pd.MultiIndex.from_tuples([\n",
    "            (  'Set',  ''),\n",
    "            (  '# bets',  ''),\n",
    "            (  'Deep Learning',  'profit $'),\n",
    "            (  'Deep Learning',  '% of successful bets'),\n",
    "            (  'LGBM',  'profit $'),\n",
    "            (  'LGBM',  '% of successful bets'),\n",
    "            (  'Ensemble Model',  'profit $'),\n",
    "            (  'Ensemble Model',  '% of successful bets'),])\n",
    "\n",
    "\n",
    "\n",
    "consolidated_result"
   ]
  },
  {
   "cell_type": "code",
   "execution_count": null,
   "id": "7d6e771e",
   "metadata": {},
   "outputs": [],
   "source": []
  },
  {
   "cell_type": "code",
   "execution_count": null,
   "id": "163005f6",
   "metadata": {},
   "outputs": [],
   "source": []
  }
 ],
 "metadata": {
  "environment": {
   "name": "tf2-gpu.2-4.m65",
   "type": "gcloud",
   "uri": "gcr.io/deeplearning-platform-release/tf2-gpu.2-4:m65"
  },
  "kernelspec": {
   "display_name": "Python 3",
   "language": "python",
   "name": "python3"
  },
  "language_info": {
   "codemirror_mode": {
    "name": "ipython",
    "version": 3
   },
   "file_extension": ".py",
   "mimetype": "text/x-python",
   "name": "python",
   "nbconvert_exporter": "python",
   "pygments_lexer": "ipython3",
   "version": "3.7.10"
  }
 },
 "nbformat": 4,
 "nbformat_minor": 5
}
