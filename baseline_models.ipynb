{
 "cells": [
  {
   "cell_type": "markdown",
   "metadata": {},
   "source": [
    "# CREATION OF SEVERAL BASELINE MODELS"
   ]
  },
  {
   "cell_type": "code",
   "execution_count": null,
   "metadata": {},
   "outputs": [],
   "source": []
  },
  {
   "cell_type": "code",
   "execution_count": null,
   "metadata": {},
   "outputs": [],
   "source": []
  },
  {
   "cell_type": "markdown",
   "metadata": {},
   "source": [
    "In this notebook, we will focus on create several baseline models to confront them after with Machine Learning models:\n",
    "- **Random winner** : we select a random horse and we compare it to the actual winner\n",
    "- **Winner on the win_odds** : we select the horse with the minimum win_odds and we compare it to the actual winner\n",
    "- **Winner on the Draw place** : we select an horse according to his draw position and we compare it to the actual winner \n",
    "\n",
    "\n",
    "- **Random list of placed horses**: we select a random list of horses and check if they were really placed (1st, 2nd or 3th)\n",
    "- **List of place horses according to their place_odds** : we select a list of horse according to thier minimum place_odds (if don't exist, we take the win_odds\n",
    "- **Placed on the Draw place** : we select a list of horses according to theirs draw position and we compare it to the real placed list \n",
    "\n",
    "\n"
   ]
  },
  {
   "cell_type": "markdown",
   "metadata": {},
   "source": [
    "# Prerequisite"
   ]
  },
  {
   "cell_type": "code",
   "execution_count": 1,
   "metadata": {},
   "outputs": [],
   "source": [
    "#%cd mvp-horse-racing-prediction/"
   ]
  },
  {
   "cell_type": "markdown",
   "metadata": {},
   "source": [
    "## Import libraries"
   ]
  },
  {
   "cell_type": "code",
   "execution_count": 2,
   "metadata": {},
   "outputs": [],
   "source": [
    "import pandas as pd\n",
    "import matplotlib.pyplot as plt\n",
    "import seaborn as sns\n",
    "import random\n",
    "import numpy as np\n",
    "import math\n",
    "\n",
    "sns.set_style('darkgrid')"
   ]
  },
  {
   "cell_type": "markdown",
   "metadata": {},
   "source": [
    "## Import data"
   ]
  },
  {
   "cell_type": "markdown",
   "metadata": {},
   "source": [
    "All the data came from kaggle : https://www.kaggle.com/gdaley/hkracing\n",
    "\n",
    "You can check the data description there.\n",
    "\n",
    "However, we only use the test set created from previous notebooks"
   ]
  },
  {
   "cell_type": "code",
   "execution_count": 3,
   "metadata": {},
   "outputs": [],
   "source": [
    "df_test = pd.read_csv('../data/test_runners.csv')"
   ]
  },
  {
   "cell_type": "markdown",
   "metadata": {},
   "source": []
  },
  {
   "cell_type": "code",
   "execution_count": 4,
   "metadata": {},
   "outputs": [
    {
     "name": "stdout",
     "output_type": "stream",
     "text": [
      "There are 471 races in this dataset\n"
     ]
    }
   ],
   "source": [
    "print(f'There are {df_test.race_id.nunique()} races in this dataset')"
   ]
  },
  {
   "cell_type": "markdown",
   "metadata": {},
   "source": [
    "For the purpose of create baseline model, we only gonna focus on several columns which are col_to_keep"
   ]
  },
  {
   "cell_type": "code",
   "execution_count": 5,
   "metadata": {},
   "outputs": [
    {
     "data": {
      "text/html": [
       "<div>\n",
       "<style scoped>\n",
       "    .dataframe tbody tr th:only-of-type {\n",
       "        vertical-align: middle;\n",
       "    }\n",
       "\n",
       "    .dataframe tbody tr th {\n",
       "        vertical-align: top;\n",
       "    }\n",
       "\n",
       "    .dataframe thead th {\n",
       "        text-align: right;\n",
       "    }\n",
       "</style>\n",
       "<table border=\"1\" class=\"dataframe\">\n",
       "  <thead>\n",
       "    <tr style=\"text-align: right;\">\n",
       "      <th></th>\n",
       "      <th>race_id</th>\n",
       "      <th>horse_no</th>\n",
       "      <th>won</th>\n",
       "      <th>place</th>\n",
       "      <th>draw</th>\n",
       "      <th>place_odds</th>\n",
       "      <th>win_odds</th>\n",
       "    </tr>\n",
       "  </thead>\n",
       "  <tbody>\n",
       "    <tr>\n",
       "      <th>0</th>\n",
       "      <td>5878</td>\n",
       "      <td>14.0</td>\n",
       "      <td>0</td>\n",
       "      <td>0</td>\n",
       "      <td>11.0</td>\n",
       "      <td>3.3</td>\n",
       "      <td>11.0</td>\n",
       "    </tr>\n",
       "    <tr>\n",
       "      <th>1</th>\n",
       "      <td>5878</td>\n",
       "      <td>13.0</td>\n",
       "      <td>0</td>\n",
       "      <td>0</td>\n",
       "      <td>6.0</td>\n",
       "      <td>6.0</td>\n",
       "      <td>25.0</td>\n",
       "    </tr>\n",
       "    <tr>\n",
       "      <th>2</th>\n",
       "      <td>5878</td>\n",
       "      <td>2.0</td>\n",
       "      <td>0</td>\n",
       "      <td>0</td>\n",
       "      <td>4.0</td>\n",
       "      <td>1.6</td>\n",
       "      <td>4.6</td>\n",
       "    </tr>\n",
       "    <tr>\n",
       "      <th>3</th>\n",
       "      <td>5878</td>\n",
       "      <td>6.0</td>\n",
       "      <td>0</td>\n",
       "      <td>0</td>\n",
       "      <td>9.0</td>\n",
       "      <td>24.0</td>\n",
       "      <td>99.0</td>\n",
       "    </tr>\n",
       "    <tr>\n",
       "      <th>4</th>\n",
       "      <td>5878</td>\n",
       "      <td>10.0</td>\n",
       "      <td>0</td>\n",
       "      <td>1</td>\n",
       "      <td>5.0</td>\n",
       "      <td>2.2</td>\n",
       "      <td>6.4</td>\n",
       "    </tr>\n",
       "    <tr>\n",
       "      <th>5</th>\n",
       "      <td>5878</td>\n",
       "      <td>11.0</td>\n",
       "      <td>0</td>\n",
       "      <td>1</td>\n",
       "      <td>1.0</td>\n",
       "      <td>2.8</td>\n",
       "      <td>7.7</td>\n",
       "    </tr>\n",
       "    <tr>\n",
       "      <th>6</th>\n",
       "      <td>5878</td>\n",
       "      <td>9.0</td>\n",
       "      <td>1</td>\n",
       "      <td>1</td>\n",
       "      <td>3.0</td>\n",
       "      <td>7.8</td>\n",
       "      <td>17.0</td>\n",
       "    </tr>\n",
       "    <tr>\n",
       "      <th>7</th>\n",
       "      <td>5878</td>\n",
       "      <td>8.0</td>\n",
       "      <td>0</td>\n",
       "      <td>0</td>\n",
       "      <td>14.0</td>\n",
       "      <td>4.8</td>\n",
       "      <td>15.0</td>\n",
       "    </tr>\n",
       "    <tr>\n",
       "      <th>8</th>\n",
       "      <td>5878</td>\n",
       "      <td>3.0</td>\n",
       "      <td>0</td>\n",
       "      <td>0</td>\n",
       "      <td>10.0</td>\n",
       "      <td>2.2</td>\n",
       "      <td>6.6</td>\n",
       "    </tr>\n",
       "    <tr>\n",
       "      <th>9</th>\n",
       "      <td>5878</td>\n",
       "      <td>12.0</td>\n",
       "      <td>0</td>\n",
       "      <td>0</td>\n",
       "      <td>8.0</td>\n",
       "      <td>3.3</td>\n",
       "      <td>9.9</td>\n",
       "    </tr>\n",
       "    <tr>\n",
       "      <th>10</th>\n",
       "      <td>5878</td>\n",
       "      <td>4.0</td>\n",
       "      <td>0</td>\n",
       "      <td>0</td>\n",
       "      <td>7.0</td>\n",
       "      <td>10.0</td>\n",
       "      <td>39.0</td>\n",
       "    </tr>\n",
       "    <tr>\n",
       "      <th>11</th>\n",
       "      <td>5878</td>\n",
       "      <td>1.0</td>\n",
       "      <td>0</td>\n",
       "      <td>0</td>\n",
       "      <td>12.0</td>\n",
       "      <td>5.7</td>\n",
       "      <td>16.0</td>\n",
       "    </tr>\n",
       "    <tr>\n",
       "      <th>12</th>\n",
       "      <td>5878</td>\n",
       "      <td>5.0</td>\n",
       "      <td>0</td>\n",
       "      <td>0</td>\n",
       "      <td>2.0</td>\n",
       "      <td>13.0</td>\n",
       "      <td>55.0</td>\n",
       "    </tr>\n",
       "    <tr>\n",
       "      <th>13</th>\n",
       "      <td>5878</td>\n",
       "      <td>7.0</td>\n",
       "      <td>0</td>\n",
       "      <td>0</td>\n",
       "      <td>13.0</td>\n",
       "      <td>3.3</td>\n",
       "      <td>10.0</td>\n",
       "    </tr>\n",
       "  </tbody>\n",
       "</table>\n",
       "</div>"
      ],
      "text/plain": [
       "    race_id  horse_no  won  place  draw  place_odds  win_odds\n",
       "0      5878      14.0    0      0  11.0         3.3      11.0\n",
       "1      5878      13.0    0      0   6.0         6.0      25.0\n",
       "2      5878       2.0    0      0   4.0         1.6       4.6\n",
       "3      5878       6.0    0      0   9.0        24.0      99.0\n",
       "4      5878      10.0    0      1   5.0         2.2       6.4\n",
       "5      5878      11.0    0      1   1.0         2.8       7.7\n",
       "6      5878       9.0    1      1   3.0         7.8      17.0\n",
       "7      5878       8.0    0      0  14.0         4.8      15.0\n",
       "8      5878       3.0    0      0  10.0         2.2       6.6\n",
       "9      5878      12.0    0      0   8.0         3.3       9.9\n",
       "10     5878       4.0    0      0   7.0        10.0      39.0\n",
       "11     5878       1.0    0      0  12.0         5.7      16.0\n",
       "12     5878       5.0    0      0   2.0        13.0      55.0\n",
       "13     5878       7.0    0      0  13.0         3.3      10.0"
      ]
     },
     "execution_count": 5,
     "metadata": {},
     "output_type": "execute_result"
    }
   ],
   "source": [
    "col_to_keep = ['race_id','horse_no', 'won', 'place', 'draw', 'place_odds', 'win_odds']\n",
    "\n",
    "df = df_test[col_to_keep]\n",
    "df.head(14)"
   ]
  },
  {
   "cell_type": "markdown",
   "metadata": {},
   "source": [
    "We can see that for each race, we have the horse number, to identify them for each race."
   ]
  },
  {
   "cell_type": "code",
   "execution_count": 6,
   "metadata": {},
   "outputs": [
    {
     "data": {
      "text/html": [
       "<div>\n",
       "<style scoped>\n",
       "    .dataframe tbody tr th:only-of-type {\n",
       "        vertical-align: middle;\n",
       "    }\n",
       "\n",
       "    .dataframe tbody tr th {\n",
       "        vertical-align: top;\n",
       "    }\n",
       "\n",
       "    .dataframe thead th {\n",
       "        text-align: right;\n",
       "    }\n",
       "</style>\n",
       "<table border=\"1\" class=\"dataframe\">\n",
       "  <thead>\n",
       "    <tr style=\"text-align: right;\">\n",
       "      <th></th>\n",
       "      <th>race_id</th>\n",
       "      <th>horse_no</th>\n",
       "      <th>won</th>\n",
       "      <th>place</th>\n",
       "      <th>draw</th>\n",
       "      <th>place_odds</th>\n",
       "      <th>win_odds</th>\n",
       "    </tr>\n",
       "  </thead>\n",
       "  <tbody>\n",
       "    <tr>\n",
       "      <th>2883</th>\n",
       "      <td>6108</td>\n",
       "      <td>NaN</td>\n",
       "      <td>0</td>\n",
       "      <td>0</td>\n",
       "      <td>NaN</td>\n",
       "      <td>NaN</td>\n",
       "      <td>NaN</td>\n",
       "    </tr>\n",
       "  </tbody>\n",
       "</table>\n",
       "</div>"
      ],
      "text/plain": [
       "      race_id  horse_no  won  place  draw  place_odds  win_odds\n",
       "2883     6108       NaN    0      0   NaN         NaN       NaN"
      ]
     },
     "execution_count": 6,
     "metadata": {},
     "output_type": "execute_result"
    }
   ],
   "source": [
    "df[df.horse_no.isna()]"
   ]
  },
  {
   "cell_type": "markdown",
   "metadata": {},
   "source": [
    "We drop the line 2883 because we have a lot of NaN values"
   ]
  },
  {
   "cell_type": "code",
   "execution_count": 7,
   "metadata": {},
   "outputs": [],
   "source": [
    "df = df.drop([2883],axis = 0)"
   ]
  },
  {
   "cell_type": "markdown",
   "metadata": {},
   "source": [
    "We create a pivot table in which all line correspond to a race. And all information about all runners are mentionned in a row."
   ]
  },
  {
   "cell_type": "code",
   "execution_count": 8,
   "metadata": {},
   "outputs": [
    {
     "data": {
      "text/html": [
       "<div>\n",
       "<style scoped>\n",
       "    .dataframe tbody tr th:only-of-type {\n",
       "        vertical-align: middle;\n",
       "    }\n",
       "\n",
       "    .dataframe tbody tr th {\n",
       "        vertical-align: top;\n",
       "    }\n",
       "\n",
       "    .dataframe thead tr th {\n",
       "        text-align: left;\n",
       "    }\n",
       "</style>\n",
       "<table border=\"1\" class=\"dataframe\">\n",
       "  <thead>\n",
       "    <tr>\n",
       "      <th></th>\n",
       "      <th>race_id</th>\n",
       "      <th colspan=\"9\" halign=\"left\">won</th>\n",
       "      <th>...</th>\n",
       "      <th colspan=\"10\" halign=\"left\">win_odds</th>\n",
       "    </tr>\n",
       "    <tr>\n",
       "      <th>horse_no</th>\n",
       "      <th></th>\n",
       "      <th>1.0</th>\n",
       "      <th>2.0</th>\n",
       "      <th>3.0</th>\n",
       "      <th>4.0</th>\n",
       "      <th>5.0</th>\n",
       "      <th>6.0</th>\n",
       "      <th>7.0</th>\n",
       "      <th>8.0</th>\n",
       "      <th>9.0</th>\n",
       "      <th>...</th>\n",
       "      <th>5.0</th>\n",
       "      <th>6.0</th>\n",
       "      <th>7.0</th>\n",
       "      <th>8.0</th>\n",
       "      <th>9.0</th>\n",
       "      <th>10.0</th>\n",
       "      <th>11.0</th>\n",
       "      <th>12.0</th>\n",
       "      <th>13.0</th>\n",
       "      <th>14.0</th>\n",
       "    </tr>\n",
       "  </thead>\n",
       "  <tbody>\n",
       "    <tr>\n",
       "      <th>0</th>\n",
       "      <td>5878</td>\n",
       "      <td>0.0</td>\n",
       "      <td>0.0</td>\n",
       "      <td>0.0</td>\n",
       "      <td>0.0</td>\n",
       "      <td>0.0</td>\n",
       "      <td>0.0</td>\n",
       "      <td>0.0</td>\n",
       "      <td>0.0</td>\n",
       "      <td>1.0</td>\n",
       "      <td>...</td>\n",
       "      <td>55.0</td>\n",
       "      <td>99.0</td>\n",
       "      <td>10.0</td>\n",
       "      <td>15.0</td>\n",
       "      <td>17.0</td>\n",
       "      <td>6.4</td>\n",
       "      <td>7.7</td>\n",
       "      <td>9.9</td>\n",
       "      <td>25.0</td>\n",
       "      <td>11.0</td>\n",
       "    </tr>\n",
       "    <tr>\n",
       "      <th>1</th>\n",
       "      <td>5879</td>\n",
       "      <td>0.0</td>\n",
       "      <td>0.0</td>\n",
       "      <td>0.0</td>\n",
       "      <td>0.0</td>\n",
       "      <td>0.0</td>\n",
       "      <td>1.0</td>\n",
       "      <td>NaN</td>\n",
       "      <td>NaN</td>\n",
       "      <td>NaN</td>\n",
       "      <td>...</td>\n",
       "      <td>11.0</td>\n",
       "      <td>2.5</td>\n",
       "      <td>NaN</td>\n",
       "      <td>NaN</td>\n",
       "      <td>NaN</td>\n",
       "      <td>NaN</td>\n",
       "      <td>NaN</td>\n",
       "      <td>NaN</td>\n",
       "      <td>NaN</td>\n",
       "      <td>NaN</td>\n",
       "    </tr>\n",
       "    <tr>\n",
       "      <th>2</th>\n",
       "      <td>5880</td>\n",
       "      <td>0.0</td>\n",
       "      <td>0.0</td>\n",
       "      <td>0.0</td>\n",
       "      <td>0.0</td>\n",
       "      <td>0.0</td>\n",
       "      <td>0.0</td>\n",
       "      <td>0.0</td>\n",
       "      <td>1.0</td>\n",
       "      <td>0.0</td>\n",
       "      <td>...</td>\n",
       "      <td>2.6</td>\n",
       "      <td>7.7</td>\n",
       "      <td>17.0</td>\n",
       "      <td>11.0</td>\n",
       "      <td>77.0</td>\n",
       "      <td>17.0</td>\n",
       "      <td>9.0</td>\n",
       "      <td>27.0</td>\n",
       "      <td>29.0</td>\n",
       "      <td>65.0</td>\n",
       "    </tr>\n",
       "    <tr>\n",
       "      <th>3</th>\n",
       "      <td>5881</td>\n",
       "      <td>0.0</td>\n",
       "      <td>0.0</td>\n",
       "      <td>0.0</td>\n",
       "      <td>0.0</td>\n",
       "      <td>0.0</td>\n",
       "      <td>0.0</td>\n",
       "      <td>0.0</td>\n",
       "      <td>0.0</td>\n",
       "      <td>0.0</td>\n",
       "      <td>...</td>\n",
       "      <td>99.0</td>\n",
       "      <td>12.0</td>\n",
       "      <td>9.6</td>\n",
       "      <td>11.0</td>\n",
       "      <td>15.0</td>\n",
       "      <td>7.7</td>\n",
       "      <td>49.0</td>\n",
       "      <td>3.5</td>\n",
       "      <td>NaN</td>\n",
       "      <td>NaN</td>\n",
       "    </tr>\n",
       "    <tr>\n",
       "      <th>4</th>\n",
       "      <td>5882</td>\n",
       "      <td>0.0</td>\n",
       "      <td>1.0</td>\n",
       "      <td>0.0</td>\n",
       "      <td>0.0</td>\n",
       "      <td>0.0</td>\n",
       "      <td>0.0</td>\n",
       "      <td>0.0</td>\n",
       "      <td>0.0</td>\n",
       "      <td>0.0</td>\n",
       "      <td>...</td>\n",
       "      <td>16.0</td>\n",
       "      <td>15.0</td>\n",
       "      <td>13.0</td>\n",
       "      <td>99.0</td>\n",
       "      <td>37.0</td>\n",
       "      <td>8.8</td>\n",
       "      <td>53.0</td>\n",
       "      <td>39.0</td>\n",
       "      <td>NaN</td>\n",
       "      <td>NaN</td>\n",
       "    </tr>\n",
       "  </tbody>\n",
       "</table>\n",
       "<p>5 rows × 71 columns</p>\n",
       "</div>"
      ],
      "text/plain": [
       "         race_id  won                                          ... win_odds  \\\n",
       "horse_no          1.0  2.0  3.0  4.0  5.0  6.0  7.0  8.0  9.0  ...      5.0   \n",
       "0           5878  0.0  0.0  0.0  0.0  0.0  0.0  0.0  0.0  1.0  ...     55.0   \n",
       "1           5879  0.0  0.0  0.0  0.0  0.0  1.0  NaN  NaN  NaN  ...     11.0   \n",
       "2           5880  0.0  0.0  0.0  0.0  0.0  0.0  0.0  1.0  0.0  ...      2.6   \n",
       "3           5881  0.0  0.0  0.0  0.0  0.0  0.0  0.0  0.0  0.0  ...     99.0   \n",
       "4           5882  0.0  1.0  0.0  0.0  0.0  0.0  0.0  0.0  0.0  ...     16.0   \n",
       "\n",
       "                                                                \n",
       "horse_no   6.0   7.0   8.0   9.0  10.0  11.0  12.0  13.0  14.0  \n",
       "0         99.0  10.0  15.0  17.0   6.4   7.7   9.9  25.0  11.0  \n",
       "1          2.5   NaN   NaN   NaN   NaN   NaN   NaN   NaN   NaN  \n",
       "2          7.7  17.0  11.0  77.0  17.0   9.0  27.0  29.0  65.0  \n",
       "3         12.0   9.6  11.0  15.0   7.7  49.0   3.5   NaN   NaN  \n",
       "4         15.0  13.0  99.0  37.0   8.8  53.0  39.0   NaN   NaN  \n",
       "\n",
       "[5 rows x 71 columns]"
      ]
     },
     "execution_count": 8,
     "metadata": {},
     "output_type": "execute_result"
    }
   ],
   "source": [
    "df_pivot = df.pivot(index='race_id',columns='horse_no').reset_index()\n",
    "df_pivot.head()"
   ]
  },
  {
   "cell_type": "markdown",
   "metadata": {},
   "source": [
    "We define some functions to know the number of horse in the race\n",
    "\n",
    "We can also know if a horse was not present for at the beginning of the race "
   ]
  },
  {
   "cell_type": "code",
   "execution_count": 9,
   "metadata": {},
   "outputs": [],
   "source": [
    "\n",
    "def hm_horses(df, race_id):\n",
    "    \"Return the number of horse for a specific race_id\"\n",
    "    Z = df[df['race_id']==race_id]['won']\n",
    "    return len(Z.columns[(Z.isna() == False).iloc[0]])\n",
    "\n",
    "\n",
    "def horse_no_on_the_line(df,race_id):\n",
    "    \"return horses number for all horse ready on the departure line\"\n",
    "    Z = df[df['race_id']==race_id]['won']\n",
    "    return Z.columns[(Z.isna() == False).iloc[0]].to_list()"
   ]
  },
  {
   "cell_type": "code",
   "execution_count": 10,
   "metadata": {},
   "outputs": [
    {
     "name": "stdout",
     "output_type": "stream",
     "text": [
      "How many horses for the race number 5878 : 14\n",
      "Horses number on the depart line for race 5878 : [1.0, 2.0, 3.0, 4.0, 5.0, 6.0, 7.0, 8.0, 9.0, 10.0, 11.0, 12.0, 13.0, 14.0]\n",
      "How many horses for the race number 5879 : 6\n",
      "Horses number on the depart line for race 5879 : [1.0, 2.0, 3.0, 4.0, 5.0, 6.0]\n"
     ]
    }
   ],
   "source": [
    "#Let's see how works both previous function with the number of horses by race \n",
    "df_pivot = df_pivot\n",
    "\n",
    "race_id = df.race_id.loc[3]\n",
    "print(f\"How many horses for the race number {race_id} : {hm_horses(df_pivot, race_id)}\")\n",
    "print(f\"Horses number on the depart line for race {race_id} : {horse_no_on_the_line(df_pivot,race_id)}\")\n",
    "\n",
    "\n",
    "race_id = df.race_id.loc[16]\n",
    "print(f\"How many horses for the race number {race_id} : {hm_horses(df_pivot, race_id)}\")\n",
    "print(f\"Horses number on the depart line for race {race_id} : {horse_no_on_the_line(df_pivot,race_id)}\")"
   ]
  },
  {
   "cell_type": "code",
   "execution_count": 11,
   "metadata": {},
   "outputs": [
    {
     "data": {
      "text/html": [
       "<div>\n",
       "<style scoped>\n",
       "    .dataframe tbody tr th:only-of-type {\n",
       "        vertical-align: middle;\n",
       "    }\n",
       "\n",
       "    .dataframe tbody tr th {\n",
       "        vertical-align: top;\n",
       "    }\n",
       "\n",
       "    .dataframe thead tr th {\n",
       "        text-align: left;\n",
       "    }\n",
       "</style>\n",
       "<table border=\"1\" class=\"dataframe\">\n",
       "  <thead>\n",
       "    <tr>\n",
       "      <th></th>\n",
       "      <th>race_id</th>\n",
       "      <th colspan=\"9\" halign=\"left\">won</th>\n",
       "      <th>...</th>\n",
       "      <th colspan=\"10\" halign=\"left\">win_odds</th>\n",
       "    </tr>\n",
       "    <tr>\n",
       "      <th>horse_no</th>\n",
       "      <th></th>\n",
       "      <th>1.0</th>\n",
       "      <th>2.0</th>\n",
       "      <th>3.0</th>\n",
       "      <th>4.0</th>\n",
       "      <th>5.0</th>\n",
       "      <th>6.0</th>\n",
       "      <th>7.0</th>\n",
       "      <th>8.0</th>\n",
       "      <th>9.0</th>\n",
       "      <th>...</th>\n",
       "      <th>5.0</th>\n",
       "      <th>6.0</th>\n",
       "      <th>7.0</th>\n",
       "      <th>8.0</th>\n",
       "      <th>9.0</th>\n",
       "      <th>10.0</th>\n",
       "      <th>11.0</th>\n",
       "      <th>12.0</th>\n",
       "      <th>13.0</th>\n",
       "      <th>14.0</th>\n",
       "    </tr>\n",
       "  </thead>\n",
       "  <tbody>\n",
       "    <tr>\n",
       "      <th>0</th>\n",
       "      <td>5878</td>\n",
       "      <td>0.0</td>\n",
       "      <td>0.0</td>\n",
       "      <td>0.0</td>\n",
       "      <td>0.0</td>\n",
       "      <td>0.0</td>\n",
       "      <td>0.0</td>\n",
       "      <td>0.0</td>\n",
       "      <td>0.0</td>\n",
       "      <td>1.0</td>\n",
       "      <td>...</td>\n",
       "      <td>55.0</td>\n",
       "      <td>99.0</td>\n",
       "      <td>10.0</td>\n",
       "      <td>15.0</td>\n",
       "      <td>17.0</td>\n",
       "      <td>6.4</td>\n",
       "      <td>7.7</td>\n",
       "      <td>9.9</td>\n",
       "      <td>25.0</td>\n",
       "      <td>11.0</td>\n",
       "    </tr>\n",
       "    <tr>\n",
       "      <th>1</th>\n",
       "      <td>5879</td>\n",
       "      <td>0.0</td>\n",
       "      <td>0.0</td>\n",
       "      <td>0.0</td>\n",
       "      <td>0.0</td>\n",
       "      <td>0.0</td>\n",
       "      <td>1.0</td>\n",
       "      <td>NaN</td>\n",
       "      <td>NaN</td>\n",
       "      <td>NaN</td>\n",
       "      <td>...</td>\n",
       "      <td>11.0</td>\n",
       "      <td>2.5</td>\n",
       "      <td>NaN</td>\n",
       "      <td>NaN</td>\n",
       "      <td>NaN</td>\n",
       "      <td>NaN</td>\n",
       "      <td>NaN</td>\n",
       "      <td>NaN</td>\n",
       "      <td>NaN</td>\n",
       "      <td>NaN</td>\n",
       "    </tr>\n",
       "    <tr>\n",
       "      <th>2</th>\n",
       "      <td>5880</td>\n",
       "      <td>0.0</td>\n",
       "      <td>0.0</td>\n",
       "      <td>0.0</td>\n",
       "      <td>0.0</td>\n",
       "      <td>0.0</td>\n",
       "      <td>0.0</td>\n",
       "      <td>0.0</td>\n",
       "      <td>1.0</td>\n",
       "      <td>0.0</td>\n",
       "      <td>...</td>\n",
       "      <td>2.6</td>\n",
       "      <td>7.7</td>\n",
       "      <td>17.0</td>\n",
       "      <td>11.0</td>\n",
       "      <td>77.0</td>\n",
       "      <td>17.0</td>\n",
       "      <td>9.0</td>\n",
       "      <td>27.0</td>\n",
       "      <td>29.0</td>\n",
       "      <td>65.0</td>\n",
       "    </tr>\n",
       "    <tr>\n",
       "      <th>3</th>\n",
       "      <td>5881</td>\n",
       "      <td>0.0</td>\n",
       "      <td>0.0</td>\n",
       "      <td>0.0</td>\n",
       "      <td>0.0</td>\n",
       "      <td>0.0</td>\n",
       "      <td>0.0</td>\n",
       "      <td>0.0</td>\n",
       "      <td>0.0</td>\n",
       "      <td>0.0</td>\n",
       "      <td>...</td>\n",
       "      <td>99.0</td>\n",
       "      <td>12.0</td>\n",
       "      <td>9.6</td>\n",
       "      <td>11.0</td>\n",
       "      <td>15.0</td>\n",
       "      <td>7.7</td>\n",
       "      <td>49.0</td>\n",
       "      <td>3.5</td>\n",
       "      <td>NaN</td>\n",
       "      <td>NaN</td>\n",
       "    </tr>\n",
       "    <tr>\n",
       "      <th>4</th>\n",
       "      <td>5882</td>\n",
       "      <td>0.0</td>\n",
       "      <td>1.0</td>\n",
       "      <td>0.0</td>\n",
       "      <td>0.0</td>\n",
       "      <td>0.0</td>\n",
       "      <td>0.0</td>\n",
       "      <td>0.0</td>\n",
       "      <td>0.0</td>\n",
       "      <td>0.0</td>\n",
       "      <td>...</td>\n",
       "      <td>16.0</td>\n",
       "      <td>15.0</td>\n",
       "      <td>13.0</td>\n",
       "      <td>99.0</td>\n",
       "      <td>37.0</td>\n",
       "      <td>8.8</td>\n",
       "      <td>53.0</td>\n",
       "      <td>39.0</td>\n",
       "      <td>NaN</td>\n",
       "      <td>NaN</td>\n",
       "    </tr>\n",
       "  </tbody>\n",
       "</table>\n",
       "<p>5 rows × 71 columns</p>\n",
       "</div>"
      ],
      "text/plain": [
       "         race_id  won                                          ... win_odds  \\\n",
       "horse_no          1.0  2.0  3.0  4.0  5.0  6.0  7.0  8.0  9.0  ...      5.0   \n",
       "0           5878  0.0  0.0  0.0  0.0  0.0  0.0  0.0  0.0  1.0  ...     55.0   \n",
       "1           5879  0.0  0.0  0.0  0.0  0.0  1.0  NaN  NaN  NaN  ...     11.0   \n",
       "2           5880  0.0  0.0  0.0  0.0  0.0  0.0  0.0  1.0  0.0  ...      2.6   \n",
       "3           5881  0.0  0.0  0.0  0.0  0.0  0.0  0.0  0.0  0.0  ...     99.0   \n",
       "4           5882  0.0  1.0  0.0  0.0  0.0  0.0  0.0  0.0  0.0  ...     16.0   \n",
       "\n",
       "                                                                \n",
       "horse_no   6.0   7.0   8.0   9.0  10.0  11.0  12.0  13.0  14.0  \n",
       "0         99.0  10.0  15.0  17.0   6.4   7.7   9.9  25.0  11.0  \n",
       "1          2.5   NaN   NaN   NaN   NaN   NaN   NaN   NaN   NaN  \n",
       "2          7.7  17.0  11.0  77.0  17.0   9.0  27.0  29.0  65.0  \n",
       "3         12.0   9.6  11.0  15.0   7.7  49.0   3.5   NaN   NaN  \n",
       "4         15.0  13.0  99.0  37.0   8.8  53.0  39.0   NaN   NaN  \n",
       "\n",
       "[5 rows x 71 columns]"
      ]
     },
     "execution_count": 11,
     "metadata": {},
     "output_type": "execute_result"
    }
   ],
   "source": [
    "df_pivot.head()"
   ]
  },
  {
   "cell_type": "markdown",
   "metadata": {},
   "source": [
    "We know have our final table. \n",
    "Let's have a look of some informations about it."
   ]
  },
  {
   "cell_type": "code",
   "execution_count": 12,
   "metadata": {},
   "outputs": [
    {
     "name": "stdout",
     "output_type": "stream",
     "text": [
      "The lenght of the final table is 470\n"
     ]
    }
   ],
   "source": [
    "print(f\"The lenght of the final table is {len(df_pivot)}\")"
   ]
  },
  {
   "cell_type": "code",
   "execution_count": 13,
   "metadata": {},
   "outputs": [
    {
     "name": "stdout",
     "output_type": "stream",
     "text": [
      "There are only races with this numbers of horses : {6, 7, 8, 9, 10, 11, 12, 13, 14}\n"
     ]
    }
   ],
   "source": [
    "print(f\"There are only races with this numbers of horses : {set(df.race_id.value_counts().to_list())}\")"
   ]
  },
  {
   "cell_type": "code",
   "execution_count": 14,
   "metadata": {},
   "outputs": [],
   "source": [
    "#take 15 secondes\n",
    "#We create a list of 11 sub_lists and we put race_id in thoses list according to the number of horse on the departure line\n",
    "race_id_by_hm_horses = [[] for _ in range(4,15)]\n",
    "\n",
    "for race_id in df_pivot.race_id.unique():\n",
    "    hm = hm_horses(df_pivot, race_id)\n",
    "    race_id_by_hm_horses[hm - 4].append(race_id)\n",
    "\n",
    "        "
   ]
  },
  {
   "cell_type": "code",
   "execution_count": 15,
   "metadata": {},
   "outputs": [
    {
     "name": "stdout",
     "output_type": "stream",
     "text": [
      "This is the list with how many race where run with 4 to 14 horses : [0, 0, 1, 4, 3, 8, 22, 37, 194, 22, 179]\n",
      "For example, we only have 0 races with 5 horses but we have 194 races with 12 horses\n"
     ]
    }
   ],
   "source": [
    "hm_races_by_hm_horses = [len(val) for val in race_id_by_hm_horses]\n",
    "\n",
    "print(f\"This is the list with how many race where run with 4 to 14 horses : {hm_races_by_hm_horses}\")\n",
    "print(f\"For example, we only have {hm_races_by_hm_horses[1]} races with 5 horses but we have {hm_races_by_hm_horses[8]} races with 12 horses\")"
   ]
  },
  {
   "cell_type": "code",
   "execution_count": 16,
   "metadata": {},
   "outputs": [
    {
     "data": {
      "image/png": "[encoded data removed]",
      "text/plain": [
       "<Figure size 1080x576 with 1 Axes>"
      ]
     },
     "metadata": {},
     "output_type": "display_data"
    }
   ],
   "source": [
    "x = [str(i) for i in range(4,15)]\n",
    "a4_dims = (15, 8)\n",
    "fig, ax = plt.subplots(figsize=a4_dims)\n",
    "sns.barplot(x, hm_races_by_hm_horses, order = x,ax=ax)\n",
    "plt.title(\"Number of races function of the number of racers\", fontsize = 20)\n",
    "plt.ylabel('number of races', fontsize=18)\n",
    "plt.xlabel('numbers of runners', fontsize=16)\n",
    "plt.tick_params(labelsize=14)\n",
    "#plt.gcf().set_size_inches(18.5, 10.5)\n",
    "plt.show()"
   ]
  },
  {
   "cell_type": "markdown",
   "metadata": {},
   "source": [
    "## Baseline Models for winner prediction"
   ]
  },
  {
   "cell_type": "code",
   "execution_count": 17,
   "metadata": {},
   "outputs": [],
   "source": [
    "\n",
    "\n",
    "def get_winner(df, race_id):\n",
    "    \"This function returns the actual winner of the race_id\"\n",
    "    \"it's an integer which is the horse_no\"\n",
    "    Z = df[df['race_id']==race_id]['won']==1\n",
    "    return Z.columns[(Z == True).iloc[0]][0]\n",
    "\n",
    "\n",
    "def get_winner_win_odds(df, race_id):\n",
    "    \"This functions returns the horse_no which is the favorite meaning his winning_odds is the lowest\"\n",
    "    Z = df[df['race_id']==race_id]['win_odds']\n",
    "    sorted_list = sorted(df[df['race_id']==race_id]['win_odds'].iloc[0].to_list()) #on range la list dans l'ordre croissant des valeurs afin de selectionner la plus petite valeur de win_odds.\n",
    "    S =[x for x in sorted_list if math.isnan(x) == False]\n",
    "    return Z.columns[(Z == S[0]).iloc[0]][0]\n",
    "    \n",
    "\n",
    "def get_winner_draw(df, race_id, draw_place):\n",
    "    \"Renvoi le cheval qui est placé en position draw_place de la corde\"\n",
    "    \"Un cheval proche de la corde aura des chances de victoire accrue\"\n",
    "    Z = df[df['race_id']==race_id]['draw']\n",
    "    sorted_list = sorted(df[df['race_id']==race_id]['draw'].iloc[0].to_list())\n",
    "    S =[x for x in sorted_list if math.isnan(x) == False]\n",
    "    return Z.columns[(Z == S[draw_place-1]).iloc[0]][0] #si jamais pas de valeur correspondante, on prendre ceux en fonction de la plus proche de la corde\n",
    "\n",
    "def get_random_win(df, race_id):\n",
    "    \"renvoi un cheval aléatoire pamri ceux qui ont pris le depart de la race_id\"\n",
    "    \"we use a random seed with the number of the race in order to always have the same results\"\n",
    "    random.seed(race_id+1)\n",
    "    return random.sample(horse_no_on_the_line(df,race_id), 1)[0]\n",
    "\n",
    "def compute_df(pred,real):\n",
    "    \"return a dataframe with information to draw the evolution graph\"\n",
    "    Z = pd.DataFrame(list(zip(pred,real)), columns=['pred','real'])\n",
    "    Z['win_odds'] = [get_win_odds(df_pivot,match_race_id_from_indices[indice],real_winner[indice]) for indice in range(470)]\n",
    "    Z['profit'] = np.where(Z['pred']== Z['real'], Z['win_odds']-1, -1)\n",
    "    Z['cumul'] = Z['profit'].cumsum()\n",
    "    Z['cumul_100'] = Z['cumul'] + 100\n",
    "    return Z\n",
    "\n",
    "\n",
    "def draw_evolution(df,model_name):\n",
    "    \"draw the evolution graph\"\n",
    "    plt.figure(figsize=(10,10)).suptitle(f'Evolution of the profit with $100 for {model_name}', fontsize=20)\n",
    "    plt.ylabel('profit ($)', fontsize=20)\n",
    "    plt.xlabel('number of races', fontsize=20)\n",
    "    plt.xticks(rotation=0,fontsize=15)\n",
    "    plt.yticks(rotation=0,fontsize=15)\n",
    "    plt.plot(df.index, df.cumul_100)\n",
    "    \n"
   ]
  },
  {
   "cell_type": "code",
   "execution_count": 18,
   "metadata": {},
   "outputs": [
    {
     "name": "stdout",
     "output_type": "stream",
     "text": [
      "Number of the winning horse for race number 5878 : 9.0\n",
      "A random winning horse for race number 5878 : 5.0\n",
      "Number of the favorite horse for winning the race number 5878 : 2.0\n",
      "Number of the horse which the draw place is 2 for race number 5878 : 5.0\n"
     ]
    }
   ],
   "source": [
    "# How works previous functions\n",
    "#try it with 1 and 1412\n",
    "race_id = df.race_id.loc[3]\n",
    "draw_place = 2\n",
    "num = 3\n",
    "df_pivot = df_pivot\n",
    "\n",
    "print(f\"Number of the winning horse for race number {race_id} : {get_winner(df_pivot, race_id)}\")\n",
    "print(f\"A random winning horse for race number {race_id} : {get_random_win(df_pivot, race_id)}\")\n",
    "print(f\"Number of the favorite horse for winning the race number {race_id} : {get_winner_win_odds(df_pivot, race_id)}\")\n",
    "print(f\"Number of the horse which the draw place is {draw_place} for race number {race_id} : {get_winner_draw(df_pivot, race_id, draw_place)}\")"
   ]
  },
  {
   "cell_type": "code",
   "execution_count": 19,
   "metadata": {},
   "outputs": [],
   "source": [
    "#There is a line beak in race_id and we also drop some race/rows.\n",
    "#We create this list with all race_id and this will alow us to match indice of the list with the actual race_id\n",
    "match_race_id_from_indices = df_pivot.race_id.to_list()"
   ]
  },
  {
   "cell_type": "markdown",
   "metadata": {},
   "source": [
    "# Winner prediction"
   ]
  },
  {
   "cell_type": "markdown",
   "metadata": {},
   "source": [
    "### List of Real Winner"
   ]
  },
  {
   "cell_type": "code",
   "execution_count": 20,
   "metadata": {},
   "outputs": [
    {
     "data": {
      "text/plain": [
       "array([9., 6., 8.])"
      ]
     },
     "execution_count": 20,
     "metadata": {},
     "output_type": "execute_result"
    }
   ],
   "source": [
    "#take 15 sec \n",
    "real_winner = np.array([get_winner(df_pivot, race_id) for race_id in df_pivot.race_id])\n",
    "real_winner[:3]"
   ]
  },
  {
   "cell_type": "markdown",
   "metadata": {},
   "source": [
    "We gonna compare all different baseline model according to several criterias and among them, we will calculate the potential benefice if some bet were well find. \n",
    "We pay 1 euros for each bet and if our bet is actually the real value, we win the odds for which we bet. \n",
    "\n",
    "\n",
    "For example:\n",
    "- I bet on horse_no = 3 and the winner is horse_no = 5 --> I lose 1 euros \n",
    "- I bet on horse_no = 3 and the winner is horse_no = 3 --> I win win_odds euros corresponding to the horse_no I choose\n",
    "\n"
   ]
  },
  {
   "cell_type": "code",
   "execution_count": 21,
   "metadata": {},
   "outputs": [],
   "source": [
    "def get_win_odds(df,race_id,horse_no):\n",
    "    \"Return the win_odds for a race_id and a horse_no\"\n",
    "    return df[df['race_id']==race_id]['win_odds'].iloc[0][horse_no]"
   ]
  },
  {
   "cell_type": "markdown",
   "metadata": {},
   "source": [
    "# Random winner prediciton"
   ]
  },
  {
   "cell_type": "markdown",
   "metadata": {},
   "source": [
    "In this section, we will focus on the random winner prediction baseline.\n",
    "This model guess randomly a horse_no and we gonna see if he win the race to check if we win some money."
   ]
  },
  {
   "cell_type": "code",
   "execution_count": 22,
   "metadata": {},
   "outputs": [],
   "source": [
    "random_prediction = np.array([get_random_win(df_pivot, race_id) for race_id in df_pivot.race_id])"
   ]
  },
  {
   "cell_type": "code",
   "execution_count": 23,
   "metadata": {},
   "outputs": [],
   "source": [
    "#with is_same we check if the real winner correspond to our predictions\n",
    "is_same = (random_prediction == real_winner)\n",
    "#we retrieve list indices from is_same where we guess the horse right meaning we won the bet\n",
    "indices = np.where( is_same == True)"
   ]
  },
  {
   "cell_type": "code",
   "execution_count": 24,
   "metadata": {},
   "outputs": [],
   "source": [
    "#We compute the total revenu for all bet we did\n",
    "#If we won the bet we add the win_odds for the race and the horse to our revenu\n",
    "\n",
    "revenu = 0.0\n",
    "for indice in indices[0]:\n",
    "    revenu = revenu + get_win_odds(df_pivot,match_race_id_from_indices[indice],real_winner[indice])\n",
    "    \n",
    "# We use match_race_id_from_indices[indice] to retrive the race_id from the list indice"
   ]
  },
  {
   "cell_type": "code",
   "execution_count": 25,
   "metadata": {},
   "outputs": [
    {
     "name": "stdout",
     "output_type": "stream",
     "text": [
      "How many bet we win: 34\n",
      "Total revenu, the sum of the win_odds : 266.4\n",
      "how many bet we did : 470\n",
      "The rate of winning bet : 0.07234042553191489\n",
      "The total profit with a 1 euro bet by horse : -203.60000000000002\n"
     ]
    }
   ],
   "source": [
    "print(f\"How many bet we win: {is_same.sum()}\")\n",
    "print(f\"Total revenu, the sum of the win_odds : {revenu}\")\n",
    "print(f\"how many bet we did : {len(df_pivot)}\")  \n",
    "print(f\"The rate of winning bet : {is_same.sum()/len(df_pivot)}\")  \n",
    "print(f\"The total profit with a 1 euro bet by horse : {revenu - len(df_pivot)}\")  "
   ]
  },
  {
   "cell_type": "code",
   "execution_count": 26,
   "metadata": {},
   "outputs": [],
   "source": [
    "#Creation of a list for the Summary table\n",
    "# columns order : columns=['Models', 'Investment', 'revenu','profit','winning_bet', 'winning_rate_bet', 'total_bet']\n",
    "random_winner_SM = ['random_winner',len(df_pivot),revenu,revenu - len(df_pivot),is_same.sum(), is_same.sum()/len(df_pivot), len(df_pivot)]"
   ]
  },
  {
   "cell_type": "code",
   "execution_count": 27,
   "metadata": {},
   "outputs": [
    {
     "data": {
      "image/png": "[encoded data removed]",
      "text/plain": [
       "<Figure size 720x720 with 1 Axes>"
      ]
     },
     "metadata": {},
     "output_type": "display_data"
    }
   ],
   "source": [
    "draw_evolution(compute_df(random_prediction,real_winner),model_name = 'random winner')"
   ]
  },
  {
   "cell_type": "markdown",
   "metadata": {},
   "source": [
    "# Winner prediction on the win_odds"
   ]
  },
  {
   "cell_type": "markdown",
   "metadata": {},
   "source": [
    "In this section, we will focus on the favorite winner prediciton baseline.\n",
    "This model take the favorite horse, meaning the one with the lowest win_odds and we gonna check if he is the real winner."
   ]
  },
  {
   "cell_type": "code",
   "execution_count": 28,
   "metadata": {},
   "outputs": [],
   "source": [
    "win_odds_prediction = np.array([get_winner_win_odds(df_pivot, race_id) for race_id in df_pivot.race_id])"
   ]
  },
  {
   "cell_type": "code",
   "execution_count": 29,
   "metadata": {},
   "outputs": [],
   "source": [
    "#with is_same we check if the real winner correspond to our predictions\n",
    "is_same = (win_odds_prediction == real_winner)\n",
    "#we retrieve list indices from is_same where we guess the horse right meaning we won the bet\n",
    "indices = np.where( is_same == True)"
   ]
  },
  {
   "cell_type": "code",
   "execution_count": 30,
   "metadata": {},
   "outputs": [],
   "source": [
    "#We compute the total revenu for all bet we did\n",
    "#If we won the bet we add the win_odds for the race and the horse to our revenu\n",
    "\n",
    "revenu = 0.0\n",
    "for indice in indices[0]:\n",
    "    revenu = revenu + get_win_odds(df_pivot,match_race_id_from_indices[indice],real_winner[indice])\n",
    "    \n",
    "# We use match_race_id_from_indices[indice] to retrive the race_id from the list indice"
   ]
  },
  {
   "cell_type": "code",
   "execution_count": 31,
   "metadata": {},
   "outputs": [
    {
     "name": "stdout",
     "output_type": "stream",
     "text": [
      "How many bet we win: 136\n",
      "Total revenu, the sum of the win_odds : 408.2999999999999\n",
      "how many bet we did : 470\n",
      "The rate of winning bet : 0.28936170212765955\n",
      "The total profit with a 1 euro bet by horse : -61.7000000000001\n"
     ]
    }
   ],
   "source": [
    "print(f\"How many bet we win: {is_same.sum()}\")\n",
    "print(f\"Total revenu, the sum of the win_odds : {revenu}\")\n",
    "print(f\"how many bet we did : {len(df_pivot)}\")  \n",
    "print(f\"The rate of winning bet : {is_same.sum()/len(df_pivot)}\")  \n",
    "print(f\"The total profit with a 1 euro bet by horse : {revenu - len(df_pivot)}\")  "
   ]
  },
  {
   "cell_type": "code",
   "execution_count": 32,
   "metadata": {},
   "outputs": [],
   "source": [
    "#Creation of a list for the Summary table\n",
    "# columns order : columns=['Models', 'Investment', 'revenu','profit','winning_bet', 'winning_rate_bet', 'total_bet']\n",
    "favorite_winner_SM = ['favorite_winner',len(df_pivot),revenu,revenu - len(df_pivot),is_same.sum(), is_same.sum()/len(df_pivot), len(df_pivot)]"
   ]
  },
  {
   "cell_type": "code",
   "execution_count": null,
   "metadata": {},
   "outputs": [],
   "source": []
  },
  {
   "cell_type": "code",
   "execution_count": 33,
   "metadata": {},
   "outputs": [
    {
     "data": {
      "image/png": "[encoded data removed]",
      "text/plain": [
       "<Figure size 720x720 with 1 Axes>"
      ]
     },
     "metadata": {},
     "output_type": "display_data"
    }
   ],
   "source": [
    "draw_evolution(compute_df(win_odds_prediction,real_winner),model_name = 'favorite winner')"
   ]
  },
  {
   "cell_type": "markdown",
   "metadata": {},
   "source": [
    "# Winner prediction on the draw place"
   ]
  },
  {
   "cell_type": "markdown",
   "metadata": {},
   "source": [
    "In this section, we will focus on the draw place winner prediciton baseline.\n",
    "\n",
    "This model take the second horse from the center of the field, meaning the one with the draw_place at 2 (it can be 3 if the horse with the draw place at 2 is not here ) and we gonna see if he is doing a great job."
   ]
  },
  {
   "cell_type": "code",
   "execution_count": 34,
   "metadata": {},
   "outputs": [],
   "source": [
    "draw_place = 2\n",
    "win_draw_prediction = np.array([get_winner_draw(df_pivot, race_id, draw_place) for race_id in df_pivot.race_id])"
   ]
  },
  {
   "cell_type": "code",
   "execution_count": 35,
   "metadata": {},
   "outputs": [],
   "source": [
    "#with is_same we check if the real winner correspond to our predictions\n",
    "is_same = (win_draw_prediction == real_winner)\n",
    "#we retrieve list indices from is_same where we guess the horse right meaning we won the bet\n",
    "indices = np.where( is_same == True)"
   ]
  },
  {
   "cell_type": "code",
   "execution_count": 36,
   "metadata": {},
   "outputs": [],
   "source": [
    "#We compute the total revenu for all bet we did\n",
    "#If we won the bet we add the win_odds for the race and the horse to our revenu\n",
    "\n",
    "revenu = 0.0\n",
    "for indice in indices[0]:\n",
    "    revenu = revenu + get_win_odds(df_pivot,match_race_id_from_indices[indice],real_winner[indice])\n",
    "    \n",
    "# We use match_race_id_from_indices[indice] to retrive the race_id from the list indice"
   ]
  },
  {
   "cell_type": "code",
   "execution_count": 37,
   "metadata": {},
   "outputs": [
    {
     "name": "stdout",
     "output_type": "stream",
     "text": [
      "How many bet we win: 39\n",
      "Total revenu, the sum of the win_odds : 268.0\n",
      "how many bet we did : 470\n",
      "The rate of winning bet : 0.08297872340425531\n",
      "The total profit with a 1 euro bet by horse : -202.0\n"
     ]
    }
   ],
   "source": [
    "print(f\"How many bet we win: {is_same.sum()}\")\n",
    "print(f\"Total revenu, the sum of the win_odds : {revenu}\")\n",
    "print(f\"how many bet we did : {len(df_pivot)}\")  \n",
    "print(f\"The rate of winning bet : {is_same.sum()/len(df_pivot)}\")  \n",
    "print(f\"The total profit with a 1 euro bet by horse : {revenu - len(df_pivot)}\")  "
   ]
  },
  {
   "cell_type": "code",
   "execution_count": 38,
   "metadata": {},
   "outputs": [],
   "source": [
    "#Creation of a list for the Summary table\n",
    "# columns order : columns=['Models', 'Investment', 'revenu','profit','winning_bet', 'winning_rate_bet', 'total_bet']\n",
    "draw_winner_SM = ['draw_winner',len(df_pivot),revenu,revenu - len(df_pivot),is_same.sum(), is_same.sum()/len(df_pivot), len(df_pivot)]"
   ]
  },
  {
   "cell_type": "code",
   "execution_count": 39,
   "metadata": {},
   "outputs": [
    {
     "data": {
      "image/png": "[encoded data removed]",
      "text/plain": [
       "<Figure size 720x720 with 1 Axes>"
      ]
     },
     "metadata": {},
     "output_type": "display_data"
    }
   ],
   "source": [
    "draw_evolution(compute_df(win_draw_prediction,real_winner), model_name = 'draw winner')"
   ]
  },
  {
   "cell_type": "markdown",
   "metadata": {},
   "source": [
    "# Placed horse prediction"
   ]
  },
  {
   "cell_type": "markdown",
   "metadata": {},
   "source": [
    "To enter this section, we need some prerequisites. \n",
    "\n",
    "We saw that we can bet on the winner but we can also bet on placed horse in a race. For a race with more than 7 horses, we have 3 differents horses placed. For a race with less than 7, we only have 2 horses placed.\n",
    "\n",
    "For each race, we gona bet 1 euro for each placed horses we bet on.\n",
    "In this case if we win we will win the place_odds instead of the win_odds. Place_odds is obviously lower than the win_odds cause it is harder to guess the winner than a placed horse.\n",
    "\n",
    "For example : \n",
    "- if a race had 14 horses, i gonna bet on 3 differents horses and spent 3 euros. For each horses placed which i guesses right, i gonna win the place_odds for this horse_no.\n",
    "- if I get two horses rigth, i will win the sum of both their place_odds."
   ]
  },
  {
   "cell_type": "code",
   "execution_count": 40,
   "metadata": {},
   "outputs": [],
   "source": [
    "#Function used to determine if we gonna have 2 or 3 placed horses in this race according to the number of horses at the beginning\n",
    "\n",
    "def hm_placed_horses(df_pivot, race_id):\n",
    "    \"Return 3 or 2 if we have more or less than 7 horses on the race\"\n",
    "    hm = hm_horses(df_pivot, race_id)\n",
    "    if hm >= 7:\n",
    "        return 3\n",
    "    else:\n",
    "        return 2"
   ]
  },
  {
   "cell_type": "code",
   "execution_count": 41,
   "metadata": {},
   "outputs": [
    {
     "name": "stdout",
     "output_type": "stream",
     "text": [
      "how many placed horses for a race with 6 horses in the race : 2\n",
      "how many placed horses for a race with 14 horses in the race : 3\n"
     ]
    }
   ],
   "source": [
    "#An example of the previous funciton\n",
    "print(f\"how many placed horses for a race with 6 horses in the race : {hm_placed_horses(df_pivot, df.race_id.loc[16])}\")\n",
    "print(f\"how many placed horses for a race with 14 horses in the race : {hm_placed_horses(df_pivot, df.race_id.loc[3])}\")"
   ]
  },
  {
   "cell_type": "code",
   "execution_count": 42,
   "metadata": {},
   "outputs": [],
   "source": [
    "def hm_nan_place_odds(df, race_id):\n",
    "    \"return for a race_id the number of nan value for the column place_odds\"\n",
    "    return sum(df_pivot[df_pivot['race_id']==race_id]['place_odds'].isna().sum().to_list())\n",
    "\n",
    "\n",
    "def compare_place_odds_nan_with_hm_horses(df,race_id):\n",
    "    \"This function compare if the number of nan value for place_odds is equal to the number of missing horse at the beginning of the race\"\n",
    "    \"If both number are equal we can keep the row by returning True, otherwize, we discard it with a False\"\n",
    "    if hm_horses(df_pivot, race_id) == 14 - hm_nan_place_odds(df, race_id):\n",
    "        return True\n",
    "    else:\n",
    "        return False"
   ]
  },
  {
   "cell_type": "code",
   "execution_count": 43,
   "metadata": {},
   "outputs": [
    {
     "name": "stdout",
     "output_type": "stream",
     "text": [
      "There is 0 nan value in the race_id 5878 for the place_odds.\n",
      "Do we keep this race in our final table : True\n",
      "There is 8 nan value in the race_id 5879 for the place_odds.\n",
      "Do we keep this race in our final table : True\n"
     ]
    }
   ],
   "source": [
    "#This cell explains how work both of the previous functions \n",
    "\n",
    "race_id = df.race_id.loc[3]\n",
    "\n",
    "print(f\"There is {hm_nan_place_odds(df_pivot, race_id)} nan value in the race_id {race_id} for the place_odds.\")\n",
    "print(f\"Do we keep this race in our final table : {compare_place_odds_nan_with_hm_horses(df_pivot,race_id)}\")\n",
    "\n",
    "race_id = df.race_id.loc[16]\n",
    "\n",
    "print(f\"There is {hm_nan_place_odds(df_pivot, race_id)} nan value in the race_id {race_id} for the place_odds.\")\n",
    "print(f\"Do we keep this race in our final table : {compare_place_odds_nan_with_hm_horses(df_pivot,race_id)}\")"
   ]
  },
  {
   "cell_type": "code",
   "execution_count": 44,
   "metadata": {},
   "outputs": [
    {
     "data": {
      "text/plain": [
       "[5973, 6129, 6130]"
      ]
     },
     "execution_count": 44,
     "metadata": {},
     "output_type": "execute_result"
    }
   ],
   "source": [
    "#this is a list of rows that must be discarded because place_odds values are missing\n",
    "#take 20 sec\n",
    "discarded_rows = [race_id for race_id in df_pivot.race_id if compare_place_odds_nan_with_hm_horses(df_pivot,race_id) == False]\n",
    "discarded_rows[:3]"
   ]
  },
  {
   "cell_type": "code",
   "execution_count": 45,
   "metadata": {},
   "outputs": [],
   "source": [
    "#we keep only row that are not in the list discarded_rows\n",
    "df_pivot = df_pivot[~df_pivot['race_id'].isin(discarded_rows)]"
   ]
  },
  {
   "cell_type": "code",
   "execution_count": 46,
   "metadata": {},
   "outputs": [],
   "source": [
    "match_race_id_from_indices = df_pivot.race_id.to_list()"
   ]
  },
  {
   "cell_type": "code",
   "execution_count": 527,
   "metadata": {},
   "outputs": [
    {
     "data": {
      "text/plain": [
       "(249, 71)"
      ]
     },
     "execution_count": 527,
     "metadata": {},
     "output_type": "execute_result"
    }
   ],
   "source": [
    "df_pivot.shape"
   ]
  },
  {
   "cell_type": "markdown",
   "metadata": {},
   "source": [
    "## Baseline Models for placed prediction"
   ]
  },
  {
   "cell_type": "code",
   "execution_count": 528,
   "metadata": {},
   "outputs": [],
   "source": [
    "def get_place(df,race_id, num):\n",
    "    \"Return a list with num horse if they are placed 1st, 2nd, and 3th\"\n",
    "    \"Do not respect the order\"\n",
    "    Z = df[df['race_id']==race_id]['place']\n",
    "    return Z.columns[(Z == True).iloc[0]].to_list()[:num] #on s'assure de ne prendre que 3 valeurs si jamais plusieurs chevaux ont la même côte\n",
    "    \n",
    "def get_place_place_odds(df, race_id, num):\n",
    "    \"Return a list of num horses which are favorties to get placed\"\n",
    "    \"Thoses horses are selected because the have the lowest place_odds\"\n",
    "    Z = df[df['race_id']==race_id]['place_odds']\n",
    "    sorted_list = sorted(df[df['race_id']==race_id]['place_odds'].iloc[0].to_list()) #on range la list dans l'ordre croissant des valeurs afin de selectionner la plus petite valeur de win_odds.\n",
    "    S =[x for x in sorted_list if math.isnan(x) == False]\n",
    "    return Z.columns[(Z.isin(S[:num])).iloc[0]].to_list()[:num] #on s'assure de ne prendre que num valeurs si jamais plusieurs chevaux ont la même côte\n",
    "\n",
    "def get_random_place(df, race_id, num):\n",
    "    \"Return a random list of num horses\"\n",
    "    \"We use a seed to have always the same random prediction\"\n",
    "    random.seed(race_id)\n",
    "    return random.sample(horse_no_on_the_line(df,race_id), num)\n",
    "\n",
    "\n",
    "\n",
    "def list_to_odds(x):\n",
    "    'return the amount of money we win according to prediction, real values and place_odds'\n",
    "    tot = 0\n",
    "    list_pred = x.pred\n",
    "    list_real = x.real\n",
    "    place_odds_real = x.place_odds_real\n",
    "    for i in range(len(list_real)):\n",
    "        if list_real[i] in list_pred:\n",
    "            tot = tot + place_odds_real[i] - 1\n",
    "        else:\n",
    "            tot = tot - 1\n",
    "    return tot\n",
    "\n",
    "def compute_df_placed(pred,real):\n",
    "    'return a df with information to draw the evolution of our investement'\n",
    "    L = []\n",
    "    for i in range(len(real)):\n",
    "        L.append([get_place_odds(df_pivot,match_race_id_from_indices[i],real[i][j]) for j in range(len(real[i]))])\n",
    "\n",
    "    Z = pd.DataFrame(list(zip(pred,real)), columns=['pred','real'])   \n",
    "    Z['place_odds_real'] = L\n",
    "    Z['profit'] = Z.apply(list_to_odds,axis=1)\n",
    "    Z['cumul'] = Z['profit'].cumsum()\n",
    "    Z['cumul_100'] = Z['cumul'] + 100\n",
    "    return Z\n",
    "\n"
   ]
  },
  {
   "cell_type": "code",
   "execution_count": 529,
   "metadata": {},
   "outputs": [],
   "source": [
    "def get_place_draw(df, race_id, num):\n",
    "    \"Return a list of horse closest to the draw\"\n",
    "    \"Meaning with the lower draw_place\"\n",
    "    Z = df[df['race_id']==race_id]['draw']\n",
    "    sorted_list = sorted(df[df['race_id']==race_id]['draw'].iloc[0].to_list())\n",
    "    S =[x for x in sorted_list if math.isnan(x) == False]\n",
    "    return Z.columns[(Z.isin(S[:num])).iloc[0]].to_list() #si jamais pas de valeur correspondante, on prendre ceux en fonction de la plus proche de la corde"
   ]
  },
  {
   "cell_type": "code",
   "execution_count": 530,
   "metadata": {},
   "outputs": [],
   "source": [
    "#get_place_draw(df_pivot, 0, 3)"
   ]
  },
  {
   "cell_type": "code",
   "execution_count": 531,
   "metadata": {},
   "outputs": [
    {
     "data": {
      "text/html": [
       "<div>\n",
       "<style scoped>\n",
       "    .dataframe tbody tr th:only-of-type {\n",
       "        vertical-align: middle;\n",
       "    }\n",
       "\n",
       "    .dataframe tbody tr th {\n",
       "        vertical-align: top;\n",
       "    }\n",
       "\n",
       "    .dataframe thead th {\n",
       "        text-align: right;\n",
       "    }\n",
       "</style>\n",
       "<table border=\"1\" class=\"dataframe\">\n",
       "  <thead>\n",
       "    <tr style=\"text-align: right;\">\n",
       "      <th></th>\n",
       "      <th>race_id</th>\n",
       "      <th>horse_no</th>\n",
       "      <th>won</th>\n",
       "      <th>place</th>\n",
       "      <th>draw</th>\n",
       "      <th>place_odds</th>\n",
       "      <th>win_odds</th>\n",
       "    </tr>\n",
       "  </thead>\n",
       "  <tbody>\n",
       "  </tbody>\n",
       "</table>\n",
       "</div>"
      ],
      "text/plain": [
       "Empty DataFrame\n",
       "Columns: [race_id, horse_no, won, place, draw, place_odds, win_odds]\n",
       "Index: []"
      ]
     },
     "execution_count": 531,
     "metadata": {},
     "output_type": "execute_result"
    }
   ],
   "source": [
    "df[df['race_id']==0]"
   ]
  },
  {
   "cell_type": "code",
   "execution_count": null,
   "metadata": {},
   "outputs": [],
   "source": []
  },
  {
   "cell_type": "markdown",
   "metadata": {},
   "source": [
    "## list of the real placed horses"
   ]
  },
  {
   "cell_type": "code",
   "execution_count": 532,
   "metadata": {},
   "outputs": [
    {
     "name": "stderr",
     "output_type": "stream",
     "text": [
      "<ipython-input-532-989b6ac0298c>:1: VisibleDeprecationWarning: Creating an ndarray from ragged nested sequences (which is a list-or-tuple of lists-or-tuples-or ndarrays with different lengths or shapes) is deprecated. If you meant to do this, you must specify 'dtype=object' when creating the ndarray\n",
      "  real_placed = np.array([get_place(df_pivot, race_id, hm_placed_horses(df_pivot, race_id)) for race_id in df_pivot.race_id])\n"
     ]
    }
   ],
   "source": [
    "real_placed = np.array([get_place(df_pivot, race_id, hm_placed_horses(df_pivot, race_id)) for race_id in df_pivot.race_id])"
   ]
  },
  {
   "cell_type": "code",
   "execution_count": 533,
   "metadata": {},
   "outputs": [
    {
     "data": {
      "text/plain": [
       "array([list([9.0, 10.0, 11.0]), list([1.0, 5.0])], dtype=object)"
      ]
     },
     "execution_count": 533,
     "metadata": {},
     "output_type": "execute_result"
    }
   ],
   "source": [
    "real_placed[:2]"
   ]
  },
  {
   "cell_type": "markdown",
   "metadata": {},
   "source": [
    "Like previsously, we need to retrieve information of the place_odds to estimate our gain"
   ]
  },
  {
   "cell_type": "code",
   "execution_count": 534,
   "metadata": {},
   "outputs": [],
   "source": [
    "def get_place_odds(df,race_id,horse_no):\n",
    "    \"Return the place_odds for a race_id and a horse_no\"\n",
    "    return df[df['race_id']==race_id]['place_odds'].iloc[0][horse_no]"
   ]
  },
  {
   "cell_type": "markdown",
   "metadata": {},
   "source": [
    "# Random list of placed horse prediciton"
   ]
  },
  {
   "cell_type": "markdown",
   "metadata": {},
   "source": [
    "In this section, we will focus on a random list of placed horses prediciton baseline.\n",
    "\n",
    "This model take a list of random horse_no and we gonna see if he is doing a great job."
   ]
  },
  {
   "cell_type": "code",
   "execution_count": 535,
   "metadata": {},
   "outputs": [
    {
     "name": "stderr",
     "output_type": "stream",
     "text": [
      "<ipython-input-535-04832f8cdc81>:2: VisibleDeprecationWarning: Creating an ndarray from ragged nested sequences (which is a list-or-tuple of lists-or-tuples-or ndarrays with different lengths or shapes) is deprecated. If you meant to do this, you must specify 'dtype=object' when creating the ndarray\n",
      "  random_place_prediction = np.array([get_random_place(df_pivot, race_id, hm_placed_horses(df_pivot, race_id)) for race_id in df_pivot.race_id])\n"
     ]
    }
   ],
   "source": [
    "#take 25 sec\n",
    "random_place_prediction = np.array([get_random_place(df_pivot, race_id, hm_placed_horses(df_pivot, race_id)) for race_id in df_pivot.race_id])"
   ]
  },
  {
   "cell_type": "code",
   "execution_count": 536,
   "metadata": {},
   "outputs": [
    {
     "data": {
      "text/plain": [
       "array([list([10.0, 9.0, 2.0]), list([3.0, 5.0])], dtype=object)"
      ]
     },
     "execution_count": 536,
     "metadata": {},
     "output_type": "execute_result"
    }
   ],
   "source": [
    "random_place_prediction[:2]"
   ]
  },
  {
   "cell_type": "code",
   "execution_count": 537,
   "metadata": {},
   "outputs": [
    {
     "data": {
      "text/plain": [
       "(249, 71)"
      ]
     },
     "execution_count": 537,
     "metadata": {},
     "output_type": "execute_result"
    }
   ],
   "source": [
    "df_pivot.shape"
   ]
  },
  {
   "cell_type": "code",
   "execution_count": 538,
   "metadata": {},
   "outputs": [],
   "source": [
    "#This cell compare all horse_no we \"predict\" to the real placed horses\n",
    "#it gives us the revenu, number of bet and how many success bet we had\n",
    "\n",
    "total_bet = 0\n",
    "sucess_bet = 0\n",
    "revenu = 0 \n",
    "\n",
    "for indice in range(len(real_placed)):\n",
    "    for horse_no in random_place_prediction[indice]:\n",
    "        if horse_no in real_placed[indice]:  #if the horse is in the prediction and the real placed list, we won the bet\n",
    "            sucess_bet = sucess_bet + 1\n",
    "\n",
    "            revenu = revenu + get_place_odds(df_pivot,match_race_id_from_indices[indice],horse_no)\n",
    "\n",
    "        total_bet = total_bet + 1\n",
    "    "
   ]
  },
  {
   "cell_type": "code",
   "execution_count": 539,
   "metadata": {},
   "outputs": [
    {
     "data": {
      "text/html": [
       "<div>\n",
       "<style scoped>\n",
       "    .dataframe tbody tr th:only-of-type {\n",
       "        vertical-align: middle;\n",
       "    }\n",
       "\n",
       "    .dataframe tbody tr th {\n",
       "        vertical-align: top;\n",
       "    }\n",
       "\n",
       "    .dataframe thead tr th {\n",
       "        text-align: left;\n",
       "    }\n",
       "</style>\n",
       "<table border=\"1\" class=\"dataframe\">\n",
       "  <thead>\n",
       "    <tr>\n",
       "      <th></th>\n",
       "      <th>race_id</th>\n",
       "      <th colspan=\"9\" halign=\"left\">won</th>\n",
       "      <th>...</th>\n",
       "      <th colspan=\"10\" halign=\"left\">win_odds</th>\n",
       "    </tr>\n",
       "    <tr>\n",
       "      <th>horse_no</th>\n",
       "      <th></th>\n",
       "      <th>1.0</th>\n",
       "      <th>2.0</th>\n",
       "      <th>3.0</th>\n",
       "      <th>4.0</th>\n",
       "      <th>5.0</th>\n",
       "      <th>6.0</th>\n",
       "      <th>7.0</th>\n",
       "      <th>8.0</th>\n",
       "      <th>9.0</th>\n",
       "      <th>...</th>\n",
       "      <th>5.0</th>\n",
       "      <th>6.0</th>\n",
       "      <th>7.0</th>\n",
       "      <th>8.0</th>\n",
       "      <th>9.0</th>\n",
       "      <th>10.0</th>\n",
       "      <th>11.0</th>\n",
       "      <th>12.0</th>\n",
       "      <th>13.0</th>\n",
       "      <th>14.0</th>\n",
       "    </tr>\n",
       "  </thead>\n",
       "  <tbody>\n",
       "  </tbody>\n",
       "</table>\n",
       "<p>0 rows × 71 columns</p>\n",
       "</div>"
      ],
      "text/plain": [
       "Empty DataFrame\n",
       "Columns: [(race_id, ), (won, 1.0), (won, 2.0), (won, 3.0), (won, 4.0), (won, 5.0), (won, 6.0), (won, 7.0), (won, 8.0), (won, 9.0), (won, 10.0), (won, 11.0), (won, 12.0), (won, 13.0), (won, 14.0), (place, 1.0), (place, 2.0), (place, 3.0), (place, 4.0), (place, 5.0), (place, 6.0), (place, 7.0), (place, 8.0), (place, 9.0), (place, 10.0), (place, 11.0), (place, 12.0), (place, 13.0), (place, 14.0), (draw, 1.0), (draw, 2.0), (draw, 3.0), (draw, 4.0), (draw, 5.0), (draw, 6.0), (draw, 7.0), (draw, 8.0), (draw, 9.0), (draw, 10.0), (draw, 11.0), (draw, 12.0), (draw, 13.0), (draw, 14.0), (place_odds, 1.0), (place_odds, 2.0), (place_odds, 3.0), (place_odds, 4.0), (place_odds, 5.0), (place_odds, 6.0), (place_odds, 7.0), (place_odds, 8.0), (place_odds, 9.0), (place_odds, 10.0), (place_odds, 11.0), (place_odds, 12.0), (place_odds, 13.0), (place_odds, 14.0), (win_odds, 1.0), (win_odds, 2.0), (win_odds, 3.0), (win_odds, 4.0), (win_odds, 5.0), (win_odds, 6.0), (win_odds, 7.0), (win_odds, 8.0), (win_odds, 9.0), (win_odds, 10.0), (win_odds, 11.0), (win_odds, 12.0), (win_odds, 13.0), (win_odds, 14.0)]\n",
       "Index: []\n",
       "\n",
       "[0 rows x 71 columns]"
      ]
     },
     "execution_count": 539,
     "metadata": {},
     "output_type": "execute_result"
    }
   ],
   "source": [
    "df_pivot[df_pivot['race_id']==5973]"
   ]
  },
  {
   "cell_type": "code",
   "execution_count": null,
   "metadata": {},
   "outputs": [],
   "source": []
  },
  {
   "cell_type": "code",
   "execution_count": 540,
   "metadata": {},
   "outputs": [
    {
     "name": "stdout",
     "output_type": "stream",
     "text": [
      "How many bet we win: 188\n",
      "how many races : 249\n",
      "how many bets : 746\n",
      "Total revenu, the sum of all the place_odds : 593.3\n",
      "The rate of winning bet : 0.2520107238605898\n",
      "The total profit with a 1 euro bet by horse : -152.70000000000005\n"
     ]
    }
   ],
   "source": [
    "print(f\"How many bet we win: {sucess_bet}\")\n",
    "print(f\"how many races : {len(df_pivot)}\")\n",
    "print(f\"how many bets : {total_bet}\")\n",
    "print(f\"Total revenu, the sum of all the place_odds : {revenu}\")\n",
    "print(f\"The rate of winning bet : {sucess_bet/total_bet}\")  \n",
    "print(f\"The total profit with a 1 euro bet by horse : {revenu - total_bet}\")  "
   ]
  },
  {
   "cell_type": "code",
   "execution_count": 541,
   "metadata": {},
   "outputs": [],
   "source": [
    "#Creation of a list for the Summary table\n",
    "# columns order : columns=['Models', 'Investment', 'revenu','profit','winning_bet', 'winning_rate_bet', 'total_bet']\n",
    "random_placed_SM = ['random_placed',total_bet,revenu,revenu - total_bet, sucess_bet, sucess_bet/total_bet, total_bet]"
   ]
  },
  {
   "cell_type": "code",
   "execution_count": 542,
   "metadata": {},
   "outputs": [
    {
     "data": {
      "image/png": "[encoded data removed]",
      "text/plain": [
       "<Figure size 720x720 with 1 Axes>"
      ]
     },
     "metadata": {},
     "output_type": "display_data"
    }
   ],
   "source": [
    "draw_evolution(compute_df_placed(random_place_prediction,real_placed),model_name='random placed')"
   ]
  },
  {
   "cell_type": "markdown",
   "metadata": {},
   "source": [
    "# prediction on the place according to the place odds"
   ]
  },
  {
   "cell_type": "code",
   "execution_count": 543,
   "metadata": {},
   "outputs": [
    {
     "name": "stderr",
     "output_type": "stream",
     "text": [
      "<ipython-input-543-e562cdfcd496>:1: VisibleDeprecationWarning: Creating an ndarray from ragged nested sequences (which is a list-or-tuple of lists-or-tuples-or ndarrays with different lengths or shapes) is deprecated. If you meant to do this, you must specify 'dtype=object' when creating the ndarray\n",
      "  odds_place_prediction = np.array([get_place_place_odds(df_pivot, race_id, hm_placed_horses(df_pivot, race_id)) for race_id in df_pivot.race_id])\n"
     ]
    }
   ],
   "source": [
    "odds_place_prediction = np.array([get_place_place_odds(df_pivot, race_id, hm_placed_horses(df_pivot, race_id)) for race_id in df_pivot.race_id])"
   ]
  },
  {
   "cell_type": "code",
   "execution_count": 544,
   "metadata": {},
   "outputs": [],
   "source": [
    "#This cell compare all horse_no we \"predict\" to the real placed horses\n",
    "#it gives us the revenu, number of bet and how many success bet we had\n",
    "\n",
    "total_bet = 0\n",
    "sucess_bet = 0\n",
    "revenu = 0 \n",
    "\n",
    "for indice in range(len(real_placed)):\n",
    "    for horse_no in odds_place_prediction[indice]:\n",
    "        if horse_no in real_placed[indice]:  #if the horse is in the prediction and the real placed list, we won the bet\n",
    "            sucess_bet = sucess_bet + 1\n",
    "            revenu = revenu + get_place_odds(df_pivot,match_race_id_from_indices[indice],horse_no)\n",
    "\n",
    "        total_bet = total_bet + 1\n",
    "    "
   ]
  },
  {
   "cell_type": "code",
   "execution_count": 545,
   "metadata": {},
   "outputs": [
    {
     "name": "stdout",
     "output_type": "stream",
     "text": [
      "How many bet we win: 355\n",
      "how many races : 249\n",
      "how many bets : 746\n",
      "Total revenu, the sum of all the place_odds : 594.5000000000005\n",
      "The rate of winning bet : 0.47587131367292224\n",
      "The total profit with a 1 euro bet by horse : -151.49999999999955\n"
     ]
    }
   ],
   "source": [
    "print(f\"How many bet we win: {sucess_bet}\")\n",
    "print(f\"how many races : {len(df_pivot)}\")\n",
    "print(f\"how many bets : {total_bet}\")\n",
    "print(f\"Total revenu, the sum of all the place_odds : {revenu}\")\n",
    "print(f\"The rate of winning bet : {sucess_bet/total_bet}\")  \n",
    "print(f\"The total profit with a 1 euro bet by horse : {revenu - total_bet}\")  "
   ]
  },
  {
   "cell_type": "code",
   "execution_count": 546,
   "metadata": {},
   "outputs": [],
   "source": [
    "#Creation of a list for the Summary table\n",
    "# columns order : columns=['Models', 'Investment', 'revenu','profit','winning_bet', 'winning_rate_bet', 'total_bet']\n",
    "favorite_placed_SM = ['favorite_placed',total_bet,revenu,revenu - total_bet, sucess_bet, sucess_bet/total_bet, total_bet]"
   ]
  },
  {
   "cell_type": "code",
   "execution_count": 547,
   "metadata": {},
   "outputs": [
    {
     "data": {
      "image/png": "[encoded data removed]",
      "text/plain": [
       "<Figure size 720x720 with 1 Axes>"
      ]
     },
     "metadata": {},
     "output_type": "display_data"
    }
   ],
   "source": [
    "draw_evolution(compute_df_placed(odds_place_prediction,real_placed), model_name = 'favorite placed')"
   ]
  },
  {
   "cell_type": "markdown",
   "metadata": {},
   "source": [
    "# prediction on the place according to the draw place"
   ]
  },
  {
   "cell_type": "markdown",
   "metadata": {},
   "source": [
    "We gonna take the first horses with the lower draw_place"
   ]
  },
  {
   "cell_type": "code",
   "execution_count": 548,
   "metadata": {},
   "outputs": [
    {
     "name": "stderr",
     "output_type": "stream",
     "text": [
      "<ipython-input-548-9eceb065b6f9>:1: VisibleDeprecationWarning: Creating an ndarray from ragged nested sequences (which is a list-or-tuple of lists-or-tuples-or ndarrays with different lengths or shapes) is deprecated. If you meant to do this, you must specify 'dtype=object' when creating the ndarray\n",
      "  draw_place_prediction = np.array([get_place_draw(df_pivot, race_id, hm_placed_horses(df_pivot, race_id)) for race_id in df_pivot.race_id])\n"
     ]
    }
   ],
   "source": [
    "draw_place_prediction = np.array([get_place_draw(df_pivot, race_id, hm_placed_horses(df_pivot, race_id)) for race_id in df_pivot.race_id])"
   ]
  },
  {
   "cell_type": "code",
   "execution_count": 549,
   "metadata": {},
   "outputs": [],
   "source": [
    "#This cell compare all horse_no we \"predict\" to the real placed horses\n",
    "#it gives us the revenu, number of bet and how many success bet we had\n",
    "\n",
    "total_bet = 0\n",
    "sucess_bet = 0\n",
    "revenu = 0 \n",
    "\n",
    "for indice in range(len(real_placed)):\n",
    "    for horse_no in draw_place_prediction[indice]:\n",
    "        if horse_no in real_placed[indice]:  #if the horse is in the prediction and the real placed list, we won the bet\n",
    "            sucess_bet = sucess_bet + 1\n",
    "            revenu = revenu + get_place_odds(df_pivot,match_race_id_from_indices[indice],horse_no)\n",
    "\n",
    "        total_bet = total_bet + 1\n",
    "    "
   ]
  },
  {
   "cell_type": "code",
   "execution_count": 550,
   "metadata": {},
   "outputs": [
    {
     "name": "stdout",
     "output_type": "stream",
     "text": [
      "How many bet we win: 212\n",
      "how many races : 249\n",
      "how many bets : 746\n",
      "Total revenu, the sum of all the place_odds : 571.3999999999999\n",
      "The rate of winning bet : 0.28418230563002683\n",
      "The total profit with a 1 euro bet by horse : -174.60000000000014\n"
     ]
    }
   ],
   "source": [
    "print(f\"How many bet we win: {sucess_bet}\")\n",
    "print(f\"how many races : {len(df_pivot)}\")\n",
    "print(f\"how many bets : {total_bet}\")\n",
    "print(f\"Total revenu, the sum of all the place_odds : {revenu}\")\n",
    "print(f\"The rate of winning bet : {sucess_bet/total_bet}\")  \n",
    "print(f\"The total profit with a 1 euro bet by horse : {revenu - total_bet}\")  "
   ]
  },
  {
   "cell_type": "code",
   "execution_count": 551,
   "metadata": {},
   "outputs": [],
   "source": [
    "#Creation of a list for the Summary table\n",
    "# columns order : columns=['Models', 'Investment', 'revenu','profit','winning_bet', 'winning_rate_bet', 'total_bet']\n",
    "draw_placed_SM = ['draw_placed',total_bet,revenu,revenu - total_bet, sucess_bet, sucess_bet/total_bet, total_bet]"
   ]
  },
  {
   "cell_type": "code",
   "execution_count": 552,
   "metadata": {},
   "outputs": [
    {
     "data": {
      "image/png": "[encoded data removed]",
      "text/plain": [
       "<Figure size 720x720 with 1 Axes>"
      ]
     },
     "metadata": {},
     "output_type": "display_data"
    }
   ],
   "source": [
    "draw_evolution(compute_df_placed(draw_place_prediction,real_placed),model_name = 'draw placed')"
   ]
  },
  {
   "cell_type": "markdown",
   "metadata": {},
   "source": [
    "# Summary table"
   ]
  },
  {
   "cell_type": "code",
   "execution_count": 553,
   "metadata": {},
   "outputs": [],
   "source": [
    "sum_list = [random_winner_SM, favorite_winner_SM, draw_winner_SM, random_placed_SM, favorite_placed_SM, draw_placed_SM]"
   ]
  },
  {
   "cell_type": "code",
   "execution_count": 554,
   "metadata": {},
   "outputs": [],
   "source": [
    "def add_metrics(List):\n",
    "    L = List.copy()\n",
    "    L[1] = '$ ' + str(round(L[1], 1))\n",
    "    L[2] = '$ ' +str(round(L[2], 1))\n",
    "    L[3] = '$ ' +str(round(L[3], 1))\n",
    "    L[5] = str(round(L[5]*100, 1)) + ' %'\n",
    "    \n",
    "    return L\n",
    "\n",
    "new_sum_list = [add_metrics(liste) for liste in sum_list]"
   ]
  },
  {
   "cell_type": "code",
   "execution_count": 555,
   "metadata": {},
   "outputs": [],
   "source": [
    "Sum_table = pd.DataFrame(new_sum_list,\n",
    "                   columns=['Models', 'Investment ($)', 'revenue ($)','profit ($)','winning_bet', 'winning_bet_rate', 'total_bet'])"
   ]
  },
  {
   "cell_type": "code",
   "execution_count": 556,
   "metadata": {},
   "outputs": [
    {
     "data": {
      "text/html": [
       "<div>\n",
       "<style scoped>\n",
       "    .dataframe tbody tr th:only-of-type {\n",
       "        vertical-align: middle;\n",
       "    }\n",
       "\n",
       "    .dataframe tbody tr th {\n",
       "        vertical-align: top;\n",
       "    }\n",
       "\n",
       "    .dataframe thead th {\n",
       "        text-align: right;\n",
       "    }\n",
       "</style>\n",
       "<table border=\"1\" class=\"dataframe\">\n",
       "  <thead>\n",
       "    <tr style=\"text-align: right;\">\n",
       "      <th></th>\n",
       "      <th>Models</th>\n",
       "      <th>Investment ($)</th>\n",
       "      <th>revenue ($)</th>\n",
       "      <th>profit ($)</th>\n",
       "      <th>winning_bet</th>\n",
       "      <th>winning_bet_rate</th>\n",
       "      <th>total_bet</th>\n",
       "    </tr>\n",
       "  </thead>\n",
       "  <tbody>\n",
       "    <tr>\n",
       "      <th>0</th>\n",
       "      <td>random_winner</td>\n",
       "      <td>$ 470</td>\n",
       "      <td>$ 266.4</td>\n",
       "      <td>$ -203.6</td>\n",
       "      <td>34</td>\n",
       "      <td>7.2 %</td>\n",
       "      <td>470</td>\n",
       "    </tr>\n",
       "    <tr>\n",
       "      <th>1</th>\n",
       "      <td>favorite_winner</td>\n",
       "      <td>$ 470</td>\n",
       "      <td>$ 408.3</td>\n",
       "      <td>$ -61.7</td>\n",
       "      <td>136</td>\n",
       "      <td>28.9 %</td>\n",
       "      <td>470</td>\n",
       "    </tr>\n",
       "    <tr>\n",
       "      <th>2</th>\n",
       "      <td>draw_winner</td>\n",
       "      <td>$ 470</td>\n",
       "      <td>$ 268.0</td>\n",
       "      <td>$ -202.0</td>\n",
       "      <td>39</td>\n",
       "      <td>8.3 %</td>\n",
       "      <td>470</td>\n",
       "    </tr>\n",
       "    <tr>\n",
       "      <th>3</th>\n",
       "      <td>random_placed</td>\n",
       "      <td>$ 746</td>\n",
       "      <td>$ 593.3</td>\n",
       "      <td>$ -152.7</td>\n",
       "      <td>188</td>\n",
       "      <td>25.2 %</td>\n",
       "      <td>746</td>\n",
       "    </tr>\n",
       "    <tr>\n",
       "      <th>4</th>\n",
       "      <td>favorite_placed</td>\n",
       "      <td>$ 746</td>\n",
       "      <td>$ 594.5</td>\n",
       "      <td>$ -151.5</td>\n",
       "      <td>355</td>\n",
       "      <td>47.6 %</td>\n",
       "      <td>746</td>\n",
       "    </tr>\n",
       "    <tr>\n",
       "      <th>5</th>\n",
       "      <td>draw_placed</td>\n",
       "      <td>$ 746</td>\n",
       "      <td>$ 571.4</td>\n",
       "      <td>$ -174.6</td>\n",
       "      <td>212</td>\n",
       "      <td>28.4 %</td>\n",
       "      <td>746</td>\n",
       "    </tr>\n",
       "  </tbody>\n",
       "</table>\n",
       "</div>"
      ],
      "text/plain": [
       "            Models Investment ($) revenue ($) profit ($)  winning_bet  \\\n",
       "0    random_winner          $ 470     $ 266.4   $ -203.6           34   \n",
       "1  favorite_winner          $ 470     $ 408.3    $ -61.7          136   \n",
       "2      draw_winner          $ 470     $ 268.0   $ -202.0           39   \n",
       "3    random_placed          $ 746     $ 593.3   $ -152.7          188   \n",
       "4  favorite_placed          $ 746     $ 594.5   $ -151.5          355   \n",
       "5      draw_placed          $ 746     $ 571.4   $ -174.6          212   \n",
       "\n",
       "  winning_bet_rate  total_bet  \n",
       "0            7.2 %        470  \n",
       "1           28.9 %        470  \n",
       "2            8.3 %        470  \n",
       "3           25.2 %        746  \n",
       "4           47.6 %        746  \n",
       "5           28.4 %        746  "
      ]
     },
     "execution_count": 556,
     "metadata": {},
     "output_type": "execute_result"
    }
   ],
   "source": [
    "Sum_table"
   ]
  },
  {
   "cell_type": "code",
   "execution_count": 557,
   "metadata": {},
   "outputs": [],
   "source": [
    "# all this notebook take around 4 minutes to execute"
   ]
  },
  {
   "cell_type": "code",
   "execution_count": 558,
   "metadata": {},
   "outputs": [],
   "source": [
    "#test"
   ]
  },
  {
   "cell_type": "code",
   "execution_count": 559,
   "metadata": {},
   "outputs": [
    {
     "data": {
      "text/html": [
       "<div>\n",
       "<style scoped>\n",
       "    .dataframe tbody tr th:only-of-type {\n",
       "        vertical-align: middle;\n",
       "    }\n",
       "\n",
       "    .dataframe tbody tr th {\n",
       "        vertical-align: top;\n",
       "    }\n",
       "\n",
       "    .dataframe thead th {\n",
       "        text-align: right;\n",
       "    }\n",
       "</style>\n",
       "<table border=\"1\" class=\"dataframe\">\n",
       "  <thead>\n",
       "    <tr style=\"text-align: right;\">\n",
       "      <th></th>\n",
       "      <th>Models</th>\n",
       "      <th>Investment ($)</th>\n",
       "      <th>revenue ($)</th>\n",
       "      <th>profit ($)</th>\n",
       "      <th>winning_bet</th>\n",
       "      <th>winning_bet_rate</th>\n",
       "      <th>total_bet</th>\n",
       "    </tr>\n",
       "  </thead>\n",
       "  <tbody>\n",
       "    <tr>\n",
       "      <th>3</th>\n",
       "      <td>random_placed</td>\n",
       "      <td>$ 746</td>\n",
       "      <td>$ 593.3</td>\n",
       "      <td>$ -152.7</td>\n",
       "      <td>188</td>\n",
       "      <td>25.2 %</td>\n",
       "      <td>746</td>\n",
       "    </tr>\n",
       "  </tbody>\n",
       "</table>\n",
       "</div>"
      ],
      "text/plain": [
       "          Models Investment ($) revenue ($) profit ($)  winning_bet  \\\n",
       "3  random_placed          $ 746     $ 593.3   $ -152.7          188   \n",
       "\n",
       "  winning_bet_rate  total_bet  \n",
       "3           25.2 %        746  "
      ]
     },
     "execution_count": 559,
     "metadata": {},
     "output_type": "execute_result"
    }
   ],
   "source": [
    "i = 3\n",
    "Sum_table[i:i+1]"
   ]
  },
  {
   "cell_type": "code",
   "execution_count": 560,
   "metadata": {},
   "outputs": [
    {
     "data": {
      "text/html": [
       "<div>\n",
       "<style scoped>\n",
       "    .dataframe tbody tr th:only-of-type {\n",
       "        vertical-align: middle;\n",
       "    }\n",
       "\n",
       "    .dataframe tbody tr th {\n",
       "        vertical-align: top;\n",
       "    }\n",
       "\n",
       "    .dataframe thead th {\n",
       "        text-align: right;\n",
       "    }\n",
       "</style>\n",
       "<table border=\"1\" class=\"dataframe\">\n",
       "  <thead>\n",
       "    <tr style=\"text-align: right;\">\n",
       "      <th></th>\n",
       "      <th>Models</th>\n",
       "      <th>Investment ($)</th>\n",
       "      <th>revenue ($)</th>\n",
       "      <th>profit ($)</th>\n",
       "      <th>winning_bet</th>\n",
       "      <th>winning_bet_rate</th>\n",
       "      <th>total_bet</th>\n",
       "    </tr>\n",
       "  </thead>\n",
       "  <tbody>\n",
       "    <tr>\n",
       "      <th>4</th>\n",
       "      <td>favorite_placed</td>\n",
       "      <td>$ 746</td>\n",
       "      <td>$ 594.5</td>\n",
       "      <td>$ -151.5</td>\n",
       "      <td>355</td>\n",
       "      <td>47.6 %</td>\n",
       "      <td>746</td>\n",
       "    </tr>\n",
       "  </tbody>\n",
       "</table>\n",
       "</div>"
      ],
      "text/plain": [
       "            Models Investment ($) revenue ($) profit ($)  winning_bet  \\\n",
       "4  favorite_placed          $ 746     $ 594.5   $ -151.5          355   \n",
       "\n",
       "  winning_bet_rate  total_bet  \n",
       "4           47.6 %        746  "
      ]
     },
     "execution_count": 560,
     "metadata": {},
     "output_type": "execute_result"
    }
   ],
   "source": [
    "i = i+1\n",
    "Sum_table[i:i+1]"
   ]
  },
  {
   "cell_type": "code",
   "execution_count": 561,
   "metadata": {},
   "outputs": [
    {
     "data": {
      "text/html": [
       "<div>\n",
       "<style scoped>\n",
       "    .dataframe tbody tr th:only-of-type {\n",
       "        vertical-align: middle;\n",
       "    }\n",
       "\n",
       "    .dataframe tbody tr th {\n",
       "        vertical-align: top;\n",
       "    }\n",
       "\n",
       "    .dataframe thead th {\n",
       "        text-align: right;\n",
       "    }\n",
       "</style>\n",
       "<table border=\"1\" class=\"dataframe\">\n",
       "  <thead>\n",
       "    <tr style=\"text-align: right;\">\n",
       "      <th></th>\n",
       "      <th>Models</th>\n",
       "      <th>Investment ($)</th>\n",
       "      <th>revenue ($)</th>\n",
       "      <th>profit ($)</th>\n",
       "      <th>winning_bet</th>\n",
       "      <th>winning_bet_rate</th>\n",
       "      <th>total_bet</th>\n",
       "    </tr>\n",
       "  </thead>\n",
       "  <tbody>\n",
       "    <tr>\n",
       "      <th>5</th>\n",
       "      <td>draw_placed</td>\n",
       "      <td>$ 746</td>\n",
       "      <td>$ 571.4</td>\n",
       "      <td>$ -174.6</td>\n",
       "      <td>212</td>\n",
       "      <td>28.4 %</td>\n",
       "      <td>746</td>\n",
       "    </tr>\n",
       "  </tbody>\n",
       "</table>\n",
       "</div>"
      ],
      "text/plain": [
       "        Models Investment ($) revenue ($) profit ($)  winning_bet  \\\n",
       "5  draw_placed          $ 746     $ 571.4   $ -174.6          212   \n",
       "\n",
       "  winning_bet_rate  total_bet  \n",
       "5           28.4 %        746  "
      ]
     },
     "execution_count": 561,
     "metadata": {},
     "output_type": "execute_result"
    }
   ],
   "source": [
    "i = i+1\n",
    "Sum_table[i:i+1]"
   ]
  },
  {
   "cell_type": "code",
   "execution_count": 562,
   "metadata": {},
   "outputs": [
    {
     "data": {
      "text/html": [
       "<div>\n",
       "<style scoped>\n",
       "    .dataframe tbody tr th:only-of-type {\n",
       "        vertical-align: middle;\n",
       "    }\n",
       "\n",
       "    .dataframe tbody tr th {\n",
       "        vertical-align: top;\n",
       "    }\n",
       "\n",
       "    .dataframe thead th {\n",
       "        text-align: right;\n",
       "    }\n",
       "</style>\n",
       "<table border=\"1\" class=\"dataframe\">\n",
       "  <thead>\n",
       "    <tr style=\"text-align: right;\">\n",
       "      <th></th>\n",
       "      <th>Models</th>\n",
       "      <th>total_bet</th>\n",
       "      <th>winning_bet</th>\n",
       "      <th>winning_bet_rate</th>\n",
       "      <th>profit ($)</th>\n",
       "    </tr>\n",
       "  </thead>\n",
       "  <tbody>\n",
       "    <tr>\n",
       "      <th>0</th>\n",
       "      <td>random_winner</td>\n",
       "      <td>470</td>\n",
       "      <td>34</td>\n",
       "      <td>7.2 %</td>\n",
       "      <td>$ -203.6</td>\n",
       "    </tr>\n",
       "    <tr>\n",
       "      <th>1</th>\n",
       "      <td>favorite_winner</td>\n",
       "      <td>470</td>\n",
       "      <td>136</td>\n",
       "      <td>28.9 %</td>\n",
       "      <td>$ -61.7</td>\n",
       "    </tr>\n",
       "    <tr>\n",
       "      <th>2</th>\n",
       "      <td>draw_winner</td>\n",
       "      <td>470</td>\n",
       "      <td>39</td>\n",
       "      <td>8.3 %</td>\n",
       "      <td>$ -202.0</td>\n",
       "    </tr>\n",
       "    <tr>\n",
       "      <th>3</th>\n",
       "      <td>random_placed</td>\n",
       "      <td>746</td>\n",
       "      <td>188</td>\n",
       "      <td>25.2 %</td>\n",
       "      <td>$ -152.7</td>\n",
       "    </tr>\n",
       "    <tr>\n",
       "      <th>4</th>\n",
       "      <td>favorite_placed</td>\n",
       "      <td>746</td>\n",
       "      <td>355</td>\n",
       "      <td>47.6 %</td>\n",
       "      <td>$ -151.5</td>\n",
       "    </tr>\n",
       "    <tr>\n",
       "      <th>5</th>\n",
       "      <td>draw_placed</td>\n",
       "      <td>746</td>\n",
       "      <td>212</td>\n",
       "      <td>28.4 %</td>\n",
       "      <td>$ -174.6</td>\n",
       "    </tr>\n",
       "  </tbody>\n",
       "</table>\n",
       "</div>"
      ],
      "text/plain": [
       "            Models  total_bet  winning_bet winning_bet_rate profit ($)\n",
       "0    random_winner        470           34            7.2 %   $ -203.6\n",
       "1  favorite_winner        470          136           28.9 %    $ -61.7\n",
       "2      draw_winner        470           39            8.3 %   $ -202.0\n",
       "3    random_placed        746          188           25.2 %   $ -152.7\n",
       "4  favorite_placed        746          355           47.6 %   $ -151.5\n",
       "5      draw_placed        746          212           28.4 %   $ -174.6"
      ]
     },
     "execution_count": 562,
     "metadata": {},
     "output_type": "execute_result"
    }
   ],
   "source": [
    "Sum_table[['Models','total_bet','winning_bet','winning_bet_rate','profit ($)']]"
   ]
  },
  {
   "cell_type": "code",
   "execution_count": null,
   "metadata": {},
   "outputs": [],
   "source": []
  },
  {
   "cell_type": "code",
   "execution_count": null,
   "metadata": {},
   "outputs": [],
   "source": []
  }
 ],
 "metadata": {
  "kernelspec": {
   "display_name": "Python 3",
   "language": "python",
   "name": "python3"
  },
  "language_info": {
   "codemirror_mode": {
    "name": "ipython",
    "version": 3
   },
   "file_extension": ".py",
   "mimetype": "text/x-python",
   "name": "python",
   "nbconvert_exporter": "python",
   "pygments_lexer": "ipython3",
   "version": "3.8.3"
  }
 },
 "nbformat": 4,
 "nbformat_minor": 4
}
