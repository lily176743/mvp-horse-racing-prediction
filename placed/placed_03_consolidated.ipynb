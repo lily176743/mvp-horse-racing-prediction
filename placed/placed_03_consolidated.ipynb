{
 "cells": [
  {
   "cell_type": "markdown",
   "id": "12a048e5",
   "metadata": {},
   "source": [
    "# This notebook give us the final results for both models and al months together\n",
    "# We can compare those results to our initials baselines models"
   ]
  },
  {
   "cell_type": "markdown",
   "id": "a2038e40",
   "metadata": {},
   "source": [
    "## Import libraries"
   ]
  },
  {
   "cell_type": "code",
   "execution_count": 1,
   "id": "26f27cf8",
   "metadata": {},
   "outputs": [
    {
     "name": "stderr",
     "output_type": "stream",
     "text": [
      "Using TensorFlow backend.\n"
     ]
    }
   ],
   "source": [
    "import pandas as pd\n",
    "import numpy as np\n",
    "import keras\n",
    "import tensorflow as tf\n",
    "import sklearn.preprocessing as preprocessing\n",
    "import sklearn.model_selection as model_selection\n",
    "import matplotlib.pyplot as plt\n",
    "from matplotlib import pyplot\n",
    "from placed_functions import *\n",
    "from IPython.core.interactiveshell import InteractiveShell\n",
    "InteractiveShell.ast_node_interactivity = \"all\"\n",
    "\n",
    "import joblib\n",
    "\n",
    "\n",
    "from lightgbm import plot_importance\n",
    "from lightgbm import LGBMClassifier"
   ]
  },
  {
   "cell_type": "markdown",
   "id": "de0590b8",
   "metadata": {},
   "source": [
    "# Compute all profit"
   ]
  },
  {
   "cell_type": "markdown",
   "id": "a956f6ab",
   "metadata": {},
   "source": [
    "List of month needed to be done : ['01', '02','03','05', '06','07', '08'] to have all 470 races"
   ]
  },
  {
   "cell_type": "code",
   "execution_count": 2,
   "id": "99031cd3",
   "metadata": {},
   "outputs": [
    {
     "name": "stdout",
     "output_type": "stream",
     "text": [
      "The month is 01\n",
      "shape of the x_train:  (5798, 1618)\n",
      "shape of the y_train:  (5798, 14)\n",
      "shape of the X_test:  (83, 1618)\n",
      "shape of the y_test:  (83, 14)\n"
     ]
    },
    {
     "name": "stderr",
     "output_type": "stream",
     "text": [
      "/opt/conda/lib/python3.7/site-packages/tensorflow/python/keras/engine/sequential.py:425: UserWarning: `model.predict_proba()` is deprecated and will be removed after 2021-01-01. Please use `model.predict()` instead.\n",
      "  warnings.warn('`model.predict_proba()` is deprecated and '\n"
     ]
    },
    {
     "name": "stdout",
     "output_type": "stream",
     "text": [
      "The month is 02\n",
      "shape of the x_train:  (5881, 1618)\n",
      "shape of the y_train:  (5881, 14)\n",
      "shape of the X_test:  (68, 1618)\n",
      "shape of the y_test:  (68, 14)\n"
     ]
    },
    {
     "name": "stderr",
     "output_type": "stream",
     "text": [
      "/opt/conda/lib/python3.7/site-packages/tensorflow/python/keras/engine/sequential.py:425: UserWarning: `model.predict_proba()` is deprecated and will be removed after 2021-01-01. Please use `model.predict()` instead.\n",
      "  warnings.warn('`model.predict_proba()` is deprecated and '\n"
     ]
    },
    {
     "name": "stdout",
     "output_type": "stream",
     "text": [
      "The month is 03\n",
      "shape of the x_train:  (5949, 1618)\n",
      "shape of the y_train:  (5949, 14)\n",
      "shape of the X_test:  (68, 1618)\n",
      "shape of the y_test:  (68, 14)\n"
     ]
    },
    {
     "name": "stderr",
     "output_type": "stream",
     "text": [
      "/opt/conda/lib/python3.7/site-packages/tensorflow/python/keras/engine/sequential.py:425: UserWarning: `model.predict_proba()` is deprecated and will be removed after 2021-01-01. Please use `model.predict()` instead.\n",
      "  warnings.warn('`model.predict_proba()` is deprecated and '\n"
     ]
    },
    {
     "name": "stdout",
     "output_type": "stream",
     "text": [
      "The month is 05\n",
      "shape of the x_train:  (6017, 1618)\n",
      "shape of the y_train:  (6017, 14)\n",
      "shape of the X_test:  (20, 1618)\n",
      "shape of the y_test:  (20, 14)\n"
     ]
    },
    {
     "name": "stderr",
     "output_type": "stream",
     "text": [
      "/opt/conda/lib/python3.7/site-packages/tensorflow/python/keras/engine/sequential.py:425: UserWarning: `model.predict_proba()` is deprecated and will be removed after 2021-01-01. Please use `model.predict()` instead.\n",
      "  warnings.warn('`model.predict_proba()` is deprecated and '\n"
     ]
    },
    {
     "name": "stdout",
     "output_type": "stream",
     "text": [
      "The month is 06\n",
      "shape of the x_train:  (6037, 1618)\n",
      "shape of the y_train:  (6037, 14)\n",
      "shape of the X_test:  (10, 1618)\n",
      "shape of the y_test:  (10, 14)\n"
     ]
    },
    {
     "name": "stderr",
     "output_type": "stream",
     "text": [
      "/opt/conda/lib/python3.7/site-packages/tensorflow/python/keras/engine/sequential.py:425: UserWarning: `model.predict_proba()` is deprecated and will be removed after 2021-01-01. Please use `model.predict()` instead.\n",
      "  warnings.warn('`model.predict_proba()` is deprecated and '\n"
     ]
    },
    {
     "name": "stdout",
     "output_type": "stream",
     "text": [
      "The month is 07\n",
      "shape of the x_train:  (6047, 1618)\n",
      "shape of the y_train:  (6047, 14)\n",
      "ERROR Can't do this set\n",
      "The month is 08\n",
      "shape of the x_train:  (6047, 1618)\n",
      "shape of the y_train:  (6047, 14)\n",
      "ERROR Can't do this set\n"
     ]
    }
   ],
   "source": [
    "all_month = ['01', '02','03','05', '06','07', '08']\n",
    "\n",
    "\n",
    "DL = []\n",
    "lgbm = []\n",
    "result = []\n",
    "percentage_dl = []\n",
    "percentage_lgbm = []\n",
    "percentage_conso = []\n",
    "hm_bets= []\n",
    "\n",
    "for month in all_month:\n",
    "    print(f'The month is {month}')\n",
    "    \n",
    "    A = prepare_and_split_data_placed(pd.read_hdf(f'../data/{month}_train_runners.h5','features'),pd.read_hdf(f'../data/{month}_test_runners.h5','features'))\n",
    "    \n",
    "    if A !=False :\n",
    "        X_train, y_train, X_test, y_test, y_train_value, y_test_value, X_test_init = A\n",
    "\n",
    "        profit_DL, profit_lgbm, pred_proba_dl, pred_proba_lgbm, profil_conso,perc_dl,perc_lgbm,perc_conso, hm_bet = compute_profil(month, X_train, y_train, X_test, y_test, y_train_value, y_test_value, X_test_init)\n",
    " \n",
    "\n",
    "        DL.append([month,profit_DL,pred_proba_dl])\n",
    "        lgbm.append([month,profit_lgbm,pred_proba_lgbm])\n",
    "        result.append(profil_conso)\n",
    "        percentage_dl.append(perc_dl)\n",
    "        percentage_lgbm.append(perc_lgbm)\n",
    "        percentage_conso.append(perc_conso)\n",
    "        hm_bets.append(hm_bet)\n",
    "        \n",
    "    else :\n",
    "        pass"
   ]
  },
  {
   "cell_type": "code",
   "execution_count": null,
   "id": "395c38e4",
   "metadata": {},
   "outputs": [],
   "source": []
  },
  {
   "cell_type": "code",
   "execution_count": 3,
   "id": "47960942",
   "metadata": {},
   "outputs": [],
   "source": [
    "# We prepare our data to display the final table\n",
    "\n",
    "sets = [dl[0] for dl in DL]\n",
    "deep_l = [dl[1] for dl in DL]\n",
    "lightgbm = [lg[1] for lg in lgbm]\n",
    "sets.append('Total')\n",
    "deep_l.append(sum(deep_l))\n",
    "lightgbm.append(sum(lightgbm))\n",
    "result.append(sum(result))\n",
    "p_dl = percentage_dl\n",
    "p_dl.append(round(np.mean(p_dl),2))\n",
    "p_lgbm = percentage_lgbm\n",
    "p_lgbm.append(round(np.mean(p_lgbm),2))\n",
    "p_conso = percentage_conso\n",
    "p_conso.append(round(np.mean(p_conso),2))\n",
    "bets = hm_bets\n",
    "bets.append(sum(hm_bets))\n",
    "\n",
    "V = []\n",
    "for i in range(len(sets)):\n",
    "    V.append([sets[i],bets[i], deep_l[i],p_dl[i], lightgbm[i],p_lgbm[i], result[i], p_conso[i]])"
   ]
  },
  {
   "cell_type": "code",
   "execution_count": 4,
   "id": "187e9069",
   "metadata": {},
   "outputs": [
    {
     "data": {
      "text/html": [
       "<div>\n",
       "<style scoped>\n",
       "    .dataframe tbody tr th:only-of-type {\n",
       "        vertical-align: middle;\n",
       "    }\n",
       "\n",
       "    .dataframe tbody tr th {\n",
       "        vertical-align: top;\n",
       "    }\n",
       "\n",
       "    .dataframe thead th {\n",
       "        text-align: right;\n",
       "    }\n",
       "</style>\n",
       "<table border=\"1\" class=\"dataframe\">\n",
       "  <thead>\n",
       "    <tr style=\"text-align: right;\">\n",
       "      <th></th>\n",
       "      <th>Set</th>\n",
       "      <th># bets</th>\n",
       "      <th>DL profit $</th>\n",
       "      <th>DL percentages %</th>\n",
       "      <th>lgbm profit $</th>\n",
       "      <th>lgbm percentages %</th>\n",
       "      <th>consolidated profit $</th>\n",
       "      <th>consolidated percentage %</th>\n",
       "    </tr>\n",
       "  </thead>\n",
       "  <tbody>\n",
       "    <tr>\n",
       "      <th>0</th>\n",
       "      <td>01</td>\n",
       "      <td>248</td>\n",
       "      <td>-45.7</td>\n",
       "      <td>30.65</td>\n",
       "      <td>-54.5</td>\n",
       "      <td>40.32</td>\n",
       "      <td>-42.0</td>\n",
       "      <td>38.71</td>\n",
       "    </tr>\n",
       "    <tr>\n",
       "      <th>1</th>\n",
       "      <td>02</td>\n",
       "      <td>204</td>\n",
       "      <td>477.2</td>\n",
       "      <td>31.86</td>\n",
       "      <td>446.5</td>\n",
       "      <td>47.06</td>\n",
       "      <td>426.6</td>\n",
       "      <td>43.63</td>\n",
       "    </tr>\n",
       "    <tr>\n",
       "      <th>2</th>\n",
       "      <td>03</td>\n",
       "      <td>204</td>\n",
       "      <td>-35.6</td>\n",
       "      <td>33.33</td>\n",
       "      <td>-35.3</td>\n",
       "      <td>43.63</td>\n",
       "      <td>-23.2</td>\n",
       "      <td>44.12</td>\n",
       "    </tr>\n",
       "    <tr>\n",
       "      <th>3</th>\n",
       "      <td>05</td>\n",
       "      <td>60</td>\n",
       "      <td>-15.7</td>\n",
       "      <td>28.33</td>\n",
       "      <td>-13.8</td>\n",
       "      <td>43.33</td>\n",
       "      <td>-21.5</td>\n",
       "      <td>36.67</td>\n",
       "    </tr>\n",
       "    <tr>\n",
       "      <th>4</th>\n",
       "      <td>06</td>\n",
       "      <td>30</td>\n",
       "      <td>-12.8</td>\n",
       "      <td>30.00</td>\n",
       "      <td>-4.7</td>\n",
       "      <td>40.00</td>\n",
       "      <td>-3.2</td>\n",
       "      <td>43.33</td>\n",
       "    </tr>\n",
       "    <tr>\n",
       "      <th>5</th>\n",
       "      <td>Total</td>\n",
       "      <td>746</td>\n",
       "      <td>367.4</td>\n",
       "      <td>30.83</td>\n",
       "      <td>338.2</td>\n",
       "      <td>42.87</td>\n",
       "      <td>336.7</td>\n",
       "      <td>41.29</td>\n",
       "    </tr>\n",
       "  </tbody>\n",
       "</table>\n",
       "</div>"
      ],
      "text/plain": [
       "     Set   # bets  DL profit $  DL percentages %  lgbm profit $  \\\n",
       "0     01      248        -45.7             30.65          -54.5   \n",
       "1     02      204        477.2             31.86          446.5   \n",
       "2     03      204        -35.6             33.33          -35.3   \n",
       "3     05       60        -15.7             28.33          -13.8   \n",
       "4     06       30        -12.8             30.00           -4.7   \n",
       "5  Total      746        367.4             30.83          338.2   \n",
       "\n",
       "   lgbm percentages %   consolidated profit $  consolidated percentage %  \n",
       "0                40.32                  -42.0                      38.71  \n",
       "1                47.06                  426.6                      43.63  \n",
       "2                43.63                  -23.2                      44.12  \n",
       "3                43.33                  -21.5                      36.67  \n",
       "4                40.00                   -3.2                      43.33  \n",
       "5                42.87                  336.7                      41.29  "
      ]
     },
     "execution_count": 4,
     "metadata": {},
     "output_type": "execute_result"
    }
   ],
   "source": [
    "consolidated_result = pd.DataFrame(V, columns = [\"Set\",\" # bets\", \"DL profit $\",\"DL percentages %\", \"lgbm profit $\",\"lgbm percentages % \",\n",
    "                                                 \"consolidated profit $\",\"consolidated percentage %\"])\n",
    "consolidated_result"
   ]
  },
  {
   "cell_type": "code",
   "execution_count": 5,
   "id": "7c481497",
   "metadata": {},
   "outputs": [],
   "source": [
    "\n",
    "consolidated_result.columns = pd.MultiIndex.from_tuples([\n",
    "            (  'Set',  ''),\n",
    "            (  '# bets',  ''),\n",
    "            (  'Deep Learning',  'profit $'),\n",
    "            (  'Deep Learning',  '% of successful bets'),\n",
    "            (  'LGBM',  'profit $'),\n",
    "            (  'LGBM',  '% of successful bets'),\n",
    "            (  'Ensemble Model',  'profit $'),\n",
    "            (  'Ensemble Model',  '% of successful bets'),])"
   ]
  },
  {
   "cell_type": "code",
   "execution_count": 6,
   "id": "cc87e4f8",
   "metadata": {},
   "outputs": [
    {
     "data": {
      "text/html": [
       "<div>\n",
       "<style scoped>\n",
       "    .dataframe tbody tr th:only-of-type {\n",
       "        vertical-align: middle;\n",
       "    }\n",
       "\n",
       "    .dataframe tbody tr th {\n",
       "        vertical-align: top;\n",
       "    }\n",
       "\n",
       "    .dataframe thead tr th {\n",
       "        text-align: left;\n",
       "    }\n",
       "</style>\n",
       "<table border=\"1\" class=\"dataframe\">\n",
       "  <thead>\n",
       "    <tr>\n",
       "      <th></th>\n",
       "      <th>Set</th>\n",
       "      <th># bets</th>\n",
       "      <th colspan=\"2\" halign=\"left\">Deep Learning</th>\n",
       "      <th colspan=\"2\" halign=\"left\">LGBM</th>\n",
       "      <th colspan=\"2\" halign=\"left\">Ensemble Model</th>\n",
       "    </tr>\n",
       "    <tr>\n",
       "      <th></th>\n",
       "      <th></th>\n",
       "      <th></th>\n",
       "      <th>profit $</th>\n",
       "      <th>% of successful bets</th>\n",
       "      <th>profit $</th>\n",
       "      <th>% of successful bets</th>\n",
       "      <th>profit $</th>\n",
       "      <th>% of successful bets</th>\n",
       "    </tr>\n",
       "  </thead>\n",
       "  <tbody>\n",
       "    <tr>\n",
       "      <th>0</th>\n",
       "      <td>01</td>\n",
       "      <td>248</td>\n",
       "      <td>-45.7</td>\n",
       "      <td>30.65</td>\n",
       "      <td>-54.5</td>\n",
       "      <td>40.32</td>\n",
       "      <td>-42.0</td>\n",
       "      <td>38.71</td>\n",
       "    </tr>\n",
       "    <tr>\n",
       "      <th>1</th>\n",
       "      <td>02</td>\n",
       "      <td>204</td>\n",
       "      <td>477.2</td>\n",
       "      <td>31.86</td>\n",
       "      <td>446.5</td>\n",
       "      <td>47.06</td>\n",
       "      <td>426.6</td>\n",
       "      <td>43.63</td>\n",
       "    </tr>\n",
       "    <tr>\n",
       "      <th>2</th>\n",
       "      <td>03</td>\n",
       "      <td>204</td>\n",
       "      <td>-35.6</td>\n",
       "      <td>33.33</td>\n",
       "      <td>-35.3</td>\n",
       "      <td>43.63</td>\n",
       "      <td>-23.2</td>\n",
       "      <td>44.12</td>\n",
       "    </tr>\n",
       "    <tr>\n",
       "      <th>3</th>\n",
       "      <td>05</td>\n",
       "      <td>60</td>\n",
       "      <td>-15.7</td>\n",
       "      <td>28.33</td>\n",
       "      <td>-13.8</td>\n",
       "      <td>43.33</td>\n",
       "      <td>-21.5</td>\n",
       "      <td>36.67</td>\n",
       "    </tr>\n",
       "    <tr>\n",
       "      <th>4</th>\n",
       "      <td>06</td>\n",
       "      <td>30</td>\n",
       "      <td>-12.8</td>\n",
       "      <td>30.00</td>\n",
       "      <td>-4.7</td>\n",
       "      <td>40.00</td>\n",
       "      <td>-3.2</td>\n",
       "      <td>43.33</td>\n",
       "    </tr>\n",
       "    <tr>\n",
       "      <th>5</th>\n",
       "      <td>Total</td>\n",
       "      <td>746</td>\n",
       "      <td>367.4</td>\n",
       "      <td>30.83</td>\n",
       "      <td>338.2</td>\n",
       "      <td>42.87</td>\n",
       "      <td>336.7</td>\n",
       "      <td>41.29</td>\n",
       "    </tr>\n",
       "  </tbody>\n",
       "</table>\n",
       "</div>"
      ],
      "text/plain": [
       "     Set # bets Deep Learning                          LGBM  \\\n",
       "                     profit $ % of successful bets profit $   \n",
       "0     01    248         -45.7                30.65    -54.5   \n",
       "1     02    204         477.2                31.86    446.5   \n",
       "2     03    204         -35.6                33.33    -35.3   \n",
       "3     05     60         -15.7                28.33    -13.8   \n",
       "4     06     30         -12.8                30.00     -4.7   \n",
       "5  Total    746         367.4                30.83    338.2   \n",
       "\n",
       "                       Ensemble Model                       \n",
       "  % of successful bets       profit $ % of successful bets  \n",
       "0                40.32          -42.0                38.71  \n",
       "1                47.06          426.6                43.63  \n",
       "2                43.63          -23.2                44.12  \n",
       "3                43.33          -21.5                36.67  \n",
       "4                40.00           -3.2                43.33  \n",
       "5                42.87          336.7                41.29  "
      ]
     },
     "execution_count": 6,
     "metadata": {},
     "output_type": "execute_result"
    }
   ],
   "source": [
    "consolidated_result"
   ]
  },
  {
   "cell_type": "code",
   "execution_count": null,
   "id": "28d6732e",
   "metadata": {},
   "outputs": [],
   "source": []
  },
  {
   "cell_type": "code",
   "execution_count": null,
   "id": "92af1855",
   "metadata": {},
   "outputs": [],
   "source": []
  },
  {
   "cell_type": "code",
   "execution_count": null,
   "id": "5a58e6d1",
   "metadata": {},
   "outputs": [],
   "source": []
  }
 ],
 "metadata": {
  "environment": {
   "name": "tf2-gpu.2-4.m65",
   "type": "gcloud",
   "uri": "gcr.io/deeplearning-platform-release/tf2-gpu.2-4:m65"
  },
  "kernelspec": {
   "display_name": "Python 3",
   "language": "python",
   "name": "python3"
  },
  "language_info": {
   "codemirror_mode": {
    "name": "ipython",
    "version": 3
   },
   "file_extension": ".py",
   "mimetype": "text/x-python",
   "name": "python",
   "nbconvert_exporter": "python",
   "pygments_lexer": "ipython3",
   "version": "3.7.10"
  }
 },
 "nbformat": 4,
 "nbformat_minor": 5
}
